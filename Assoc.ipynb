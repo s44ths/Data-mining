{
  "nbformat": 4,
  "nbformat_minor": 0,
  "metadata": {
    "colab": {
      "provenance": [],
      "authorship_tag": "ABX9TyPlvDWA/XtupJorwUnYrMaL",
      "include_colab_link": true
    },
    "kernelspec": {
      "name": "python3",
      "display_name": "Python 3"
    },
    "language_info": {
      "name": "python"
    }
  },
  "cells": [
    {
      "cell_type": "markdown",
      "metadata": {
        "id": "view-in-github",
        "colab_type": "text"
      },
      "source": [
        "<a href=\"https://colab.research.google.com/github/s44ths/Data-mining/blob/main/Assoc.ipynb\" target=\"_parent\"><img src=\"https://colab.research.google.com/assets/colab-badge.svg\" alt=\"Open In Colab\"/></a>"
      ]
    },
    {
      "cell_type": "code",
      "execution_count": null,
      "metadata": {
        "colab": {
          "base_uri": "https://localhost:8080/",
          "height": 206
        },
        "id": "1DaMq0eWAZZy",
        "outputId": "95b8f1d5-5cd5-493d-a015-254c77a4e210"
      },
      "outputs": [
        {
          "output_type": "execute_result",
          "data": {
            "text/plain": [
              "   Номер чека                   Товар\n",
              "0      160698  КЕТЧУПЫ, СОУСЫ, АДЖИКА\n",
              "1      160698      МАКАРОННЫЕ ИЗДЕЛИЯ\n",
              "2      160698                     ЧАЙ\n",
              "3      160747      МАКАРОННЫЕ ИЗДЕЛИЯ\n",
              "4      160747                     МЕД"
            ],
            "text/html": [
              "\n",
              "  <div id=\"df-4b990376-cfce-461b-b567-c1815905df62\">\n",
              "    <div class=\"colab-df-container\">\n",
              "      <div>\n",
              "<style scoped>\n",
              "    .dataframe tbody tr th:only-of-type {\n",
              "        vertical-align: middle;\n",
              "    }\n",
              "\n",
              "    .dataframe tbody tr th {\n",
              "        vertical-align: top;\n",
              "    }\n",
              "\n",
              "    .dataframe thead th {\n",
              "        text-align: right;\n",
              "    }\n",
              "</style>\n",
              "<table border=\"1\" class=\"dataframe\">\n",
              "  <thead>\n",
              "    <tr style=\"text-align: right;\">\n",
              "      <th></th>\n",
              "      <th>Номер чека</th>\n",
              "      <th>Товар</th>\n",
              "    </tr>\n",
              "  </thead>\n",
              "  <tbody>\n",
              "    <tr>\n",
              "      <th>0</th>\n",
              "      <td>160698</td>\n",
              "      <td>КЕТЧУПЫ, СОУСЫ, АДЖИКА</td>\n",
              "    </tr>\n",
              "    <tr>\n",
              "      <th>1</th>\n",
              "      <td>160698</td>\n",
              "      <td>МАКАРОННЫЕ ИЗДЕЛИЯ</td>\n",
              "    </tr>\n",
              "    <tr>\n",
              "      <th>2</th>\n",
              "      <td>160698</td>\n",
              "      <td>ЧАЙ</td>\n",
              "    </tr>\n",
              "    <tr>\n",
              "      <th>3</th>\n",
              "      <td>160747</td>\n",
              "      <td>МАКАРОННЫЕ ИЗДЕЛИЯ</td>\n",
              "    </tr>\n",
              "    <tr>\n",
              "      <th>4</th>\n",
              "      <td>160747</td>\n",
              "      <td>МЕД</td>\n",
              "    </tr>\n",
              "  </tbody>\n",
              "</table>\n",
              "</div>\n",
              "      <button class=\"colab-df-convert\" onclick=\"convertToInteractive('df-4b990376-cfce-461b-b567-c1815905df62')\"\n",
              "              title=\"Convert this dataframe to an interactive table.\"\n",
              "              style=\"display:none;\">\n",
              "        \n",
              "  <svg xmlns=\"http://www.w3.org/2000/svg\" height=\"24px\"viewBox=\"0 0 24 24\"\n",
              "       width=\"24px\">\n",
              "    <path d=\"M0 0h24v24H0V0z\" fill=\"none\"/>\n",
              "    <path d=\"M18.56 5.44l.94 2.06.94-2.06 2.06-.94-2.06-.94-.94-2.06-.94 2.06-2.06.94zm-11 1L8.5 8.5l.94-2.06 2.06-.94-2.06-.94L8.5 2.5l-.94 2.06-2.06.94zm10 10l.94 2.06.94-2.06 2.06-.94-2.06-.94-.94-2.06-.94 2.06-2.06.94z\"/><path d=\"M17.41 7.96l-1.37-1.37c-.4-.4-.92-.59-1.43-.59-.52 0-1.04.2-1.43.59L10.3 9.45l-7.72 7.72c-.78.78-.78 2.05 0 2.83L4 21.41c.39.39.9.59 1.41.59.51 0 1.02-.2 1.41-.59l7.78-7.78 2.81-2.81c.8-.78.8-2.07 0-2.86zM5.41 20L4 18.59l7.72-7.72 1.47 1.35L5.41 20z\"/>\n",
              "  </svg>\n",
              "      </button>\n",
              "      \n",
              "  <style>\n",
              "    .colab-df-container {\n",
              "      display:flex;\n",
              "      flex-wrap:wrap;\n",
              "      gap: 12px;\n",
              "    }\n",
              "\n",
              "    .colab-df-convert {\n",
              "      background-color: #E8F0FE;\n",
              "      border: none;\n",
              "      border-radius: 50%;\n",
              "      cursor: pointer;\n",
              "      display: none;\n",
              "      fill: #1967D2;\n",
              "      height: 32px;\n",
              "      padding: 0 0 0 0;\n",
              "      width: 32px;\n",
              "    }\n",
              "\n",
              "    .colab-df-convert:hover {\n",
              "      background-color: #E2EBFA;\n",
              "      box-shadow: 0px 1px 2px rgba(60, 64, 67, 0.3), 0px 1px 3px 1px rgba(60, 64, 67, 0.15);\n",
              "      fill: #174EA6;\n",
              "    }\n",
              "\n",
              "    [theme=dark] .colab-df-convert {\n",
              "      background-color: #3B4455;\n",
              "      fill: #D2E3FC;\n",
              "    }\n",
              "\n",
              "    [theme=dark] .colab-df-convert:hover {\n",
              "      background-color: #434B5C;\n",
              "      box-shadow: 0px 1px 3px 1px rgba(0, 0, 0, 0.15);\n",
              "      filter: drop-shadow(0px 1px 2px rgba(0, 0, 0, 0.3));\n",
              "      fill: #FFFFFF;\n",
              "    }\n",
              "  </style>\n",
              "\n",
              "      <script>\n",
              "        const buttonEl =\n",
              "          document.querySelector('#df-4b990376-cfce-461b-b567-c1815905df62 button.colab-df-convert');\n",
              "        buttonEl.style.display =\n",
              "          google.colab.kernel.accessAllowed ? 'block' : 'none';\n",
              "\n",
              "        async function convertToInteractive(key) {\n",
              "          const element = document.querySelector('#df-4b990376-cfce-461b-b567-c1815905df62');\n",
              "          const dataTable =\n",
              "            await google.colab.kernel.invokeFunction('convertToInteractive',\n",
              "                                                     [key], {});\n",
              "          if (!dataTable) return;\n",
              "\n",
              "          const docLinkHtml = 'Like what you see? Visit the ' +\n",
              "            '<a target=\"_blank\" href=https://colab.research.google.com/notebooks/data_table.ipynb>data table notebook</a>'\n",
              "            + ' to learn more about interactive tables.';\n",
              "          element.innerHTML = '';\n",
              "          dataTable['output_type'] = 'display_data';\n",
              "          await google.colab.output.renderOutput(dataTable, element);\n",
              "          const docLink = document.createElement('div');\n",
              "          docLink.innerHTML = docLinkHtml;\n",
              "          element.appendChild(docLink);\n",
              "        }\n",
              "      </script>\n",
              "    </div>\n",
              "  </div>\n",
              "  "
            ]
          },
          "metadata": {},
          "execution_count": 16
        }
      ],
      "source": [
        "import pandas as pd\n",
        "\n",
        "market = pd.read_excel('Supermarket.xlsx')\n",
        "market.head()"
      ]
    },
    {
      "cell_type": "code",
      "source": [
        "transactions = market.groupby(['Номер чека'])['Товар'].apply(list).values.tolist()\n",
        "transactions[:10]"
      ],
      "metadata": {
        "colab": {
          "base_uri": "https://localhost:8080/"
        },
        "id": "e-qxwrUOCMdV",
        "outputId": "fcf8a9e7-74fa-4d01-e76a-537a10bcec74"
      },
      "execution_count": null,
      "outputs": [
        {
          "output_type": "execute_result",
          "data": {
            "text/plain": [
              "[['КЕТЧУПЫ, СОУСЫ, АДЖИКА', 'МАКАРОННЫЕ ИЗДЕЛИЯ', 'МЕД', 'ЧАЙ'],\n",
              " ['КЕТЧУПЫ, СОУСЫ, АДЖИКА', 'МАКАРОННЫЕ ИЗДЕЛИЯ', 'МЕД', 'ЧАЙ'],\n",
              " ['КЕТЧУПЫ, СОУСЫ, АДЖИКА', 'МАКАРОННЫЕ ИЗДЕЛИЯ', 'ЧАЙ'],\n",
              " ['МАКАРОННЫЕ ИЗДЕЛИЯ', 'МЕД', 'ЧАЙ'],\n",
              " ['КЕТЧУПЫ, СОУСЫ, АДЖИКА', 'МАКАРОННЫЕ ИЗДЕЛИЯ', 'СЫРЫ'],\n",
              " ['КЕТЧУПЫ, СОУСЫ, АДЖИКА', 'МАКАРОННЫЕ ИЗДЕЛИЯ', 'СЫРЫ'],\n",
              " ['КЕТЧУПЫ, СОУСЫ, АДЖИКА', 'МАКАРОННЫЕ ИЗДЕЛИЯ', 'ЧАЙ'],\n",
              " ['МАКАРОННЫЕ ИЗДЕЛИЯ', 'МЕД', 'ЧАЙ'],\n",
              " ['КЕТЧУПЫ, СОУСЫ, АДЖИКА', 'МАКАРОННЫЕ ИЗДЕЛИЯ', 'МЕД', 'СЫРЫ', 'ЧАЙ'],\n",
              " ['КЕТЧУПЫ, СОУСЫ, АДЖИКА', 'МАКАРОННЫЕ ИЗДЕЛИЯ', 'ЧАЙ']]"
            ]
          },
          "metadata": {},
          "execution_count": 27
        }
      ]
    },
    {
      "cell_type": "code",
      "source": [
        "from apyori import apriori\n",
        "rules = list(apriori(transactions, min_support = 0.001,  min_confidence = 0.5, min_lift = 1.07, min_length=2))\n",
        "rules"
      ],
      "metadata": {
        "colab": {
          "base_uri": "https://localhost:8080/"
        },
        "id": "JCWewQDLC--I",
        "outputId": "340b0f93-c54f-4077-9944-95b5ae1e51d9"
      },
      "execution_count": null,
      "outputs": [
        {
          "output_type": "execute_result",
          "data": {
            "text/plain": [
              "[RelationRecord(items=frozenset({'ВАФЛИ', 'СУХАРИ'}), support=0.22727272727272727, ordered_statistics=[OrderedStatistic(items_base=frozenset({'ВАФЛИ'}), items_add=frozenset({'СУХАРИ'}), confidence=0.7142857142857143, lift=2.2448979591836737), OrderedStatistic(items_base=frozenset({'СУХАРИ'}), items_add=frozenset({'ВАФЛИ'}), confidence=0.7142857142857143, lift=2.2448979591836737)]),\n",
              " RelationRecord(items=frozenset({'ЧАЙ', 'ВАФЛИ'}), support=0.29545454545454547, ordered_statistics=[OrderedStatistic(items_base=frozenset({'ВАФЛИ'}), items_add=frozenset({'ЧАЙ'}), confidence=0.9285714285714286, lift=1.2380952380952381)]),\n",
              " RelationRecord(items=frozenset({'МАКАРОННЫЕ ИЗДЕЛИЯ', 'КЕТЧУПЫ, СОУСЫ, АДЖИКА'}), support=0.45454545454545453, ordered_statistics=[OrderedStatistic(items_base=frozenset({'КЕТЧУПЫ, СОУСЫ, АДЖИКА'}), items_add=frozenset({'МАКАРОННЫЕ ИЗДЕЛИЯ'}), confidence=0.8695652173913043, lift=1.5942028985507246), OrderedStatistic(items_base=frozenset({'МАКАРОННЫЕ ИЗДЕЛИЯ'}), items_add=frozenset({'КЕТЧУПЫ, СОУСЫ, АДЖИКА'}), confidence=0.8333333333333334, lift=1.5942028985507248)]),\n",
              " RelationRecord(items=frozenset({'ЧАЙ', 'МЕД'}), support=0.4090909090909091, ordered_statistics=[OrderedStatistic(items_base=frozenset({'МЕД'}), items_add=frozenset({'ЧАЙ'}), confidence=0.8181818181818182, lift=1.090909090909091), OrderedStatistic(items_base=frozenset({'ЧАЙ'}), items_add=frozenset({'МЕД'}), confidence=0.5454545454545455, lift=1.090909090909091)]),\n",
              " RelationRecord(items=frozenset({'ЧАЙ', 'СУХАРИ'}), support=0.29545454545454547, ordered_statistics=[OrderedStatistic(items_base=frozenset({'СУХАРИ'}), items_add=frozenset({'ЧАЙ'}), confidence=0.9285714285714286, lift=1.2380952380952381)]),\n",
              " RelationRecord(items=frozenset({'ЧАЙ', 'ВАФЛИ', 'КЕТЧУПЫ, СОУСЫ, АДЖИКА'}), support=0.022727272727272728, ordered_statistics=[OrderedStatistic(items_base=frozenset({'ВАФЛИ', 'КЕТЧУПЫ, СОУСЫ, АДЖИКА'}), items_add=frozenset({'ЧАЙ'}), confidence=1.0, lift=1.3333333333333333)]),\n",
              " RelationRecord(items=frozenset({'МАКАРОННЫЕ ИЗДЕЛИЯ', 'ВАФЛИ', 'СУХАРИ'}), support=0.022727272727272728, ordered_statistics=[OrderedStatistic(items_base=frozenset({'МАКАРОННЫЕ ИЗДЕЛИЯ', 'ВАФЛИ'}), items_add=frozenset({'СУХАРИ'}), confidence=1.0, lift=3.142857142857143), OrderedStatistic(items_base=frozenset({'МАКАРОННЫЕ ИЗДЕЛИЯ', 'СУХАРИ'}), items_add=frozenset({'ВАФЛИ'}), confidence=0.5, lift=1.5714285714285714)]),\n",
              " RelationRecord(items=frozenset({'МЕД', 'ВАФЛИ', 'СУХАРИ'}), support=0.09090909090909091, ordered_statistics=[OrderedStatistic(items_base=frozenset({'МЕД', 'ВАФЛИ'}), items_add=frozenset({'СУХАРИ'}), confidence=0.6666666666666667, lift=2.0952380952380953), OrderedStatistic(items_base=frozenset({'МЕД', 'СУХАРИ'}), items_add=frozenset({'ВАФЛИ'}), confidence=0.5714285714285715, lift=1.795918367346939)]),\n",
              " RelationRecord(items=frozenset({'МЕД', 'ВАФЛИ', 'СЫРЫ'}), support=0.06818181818181818, ordered_statistics=[OrderedStatistic(items_base=frozenset({'МЕД', 'ВАФЛИ'}), items_add=frozenset({'СЫРЫ'}), confidence=0.5, lift=1.1578947368421053), OrderedStatistic(items_base=frozenset({'ВАФЛИ', 'СЫРЫ'}), items_add=frozenset({'МЕД'}), confidence=0.6, lift=1.2)]),\n",
              " RelationRecord(items=frozenset({'ЧАЙ', 'МЕД', 'ВАФЛИ'}), support=0.13636363636363635, ordered_statistics=[OrderedStatistic(items_base=frozenset({'МЕД', 'ВАФЛИ'}), items_add=frozenset({'ЧАЙ'}), confidence=1.0, lift=1.3333333333333333)]),\n",
              " RelationRecord(items=frozenset({'ВАФЛИ', 'СЫРЫ', 'СУХАРИ'}), support=0.06818181818181818, ordered_statistics=[OrderedStatistic(items_base=frozenset({'ВАФЛИ', 'СЫРЫ'}), items_add=frozenset({'СУХАРИ'}), confidence=0.6, lift=1.8857142857142857), OrderedStatistic(items_base=frozenset({'СУХАРИ', 'СЫРЫ'}), items_add=frozenset({'ВАФЛИ'}), confidence=0.6, lift=1.8857142857142857)]),\n",
              " RelationRecord(items=frozenset({'ЧАЙ', 'ВАФЛИ', 'СУХАРИ'}), support=0.20454545454545456, ordered_statistics=[OrderedStatistic(items_base=frozenset({'ВАФЛИ'}), items_add=frozenset({'ЧАЙ', 'СУХАРИ'}), confidence=0.6428571428571429, lift=2.175824175824176), OrderedStatistic(items_base=frozenset({'СУХАРИ'}), items_add=frozenset({'ЧАЙ', 'ВАФЛИ'}), confidence=0.6428571428571429, lift=2.175824175824176), OrderedStatistic(items_base=frozenset({'ВАФЛИ', 'СУХАРИ'}), items_add=frozenset({'ЧАЙ'}), confidence=0.9000000000000001, lift=1.2000000000000002), OrderedStatistic(items_base=frozenset({'ЧАЙ', 'ВАФЛИ'}), items_add=frozenset({'СУХАРИ'}), confidence=0.6923076923076923, lift=2.1758241758241756), OrderedStatistic(items_base=frozenset({'ЧАЙ', 'СУХАРИ'}), items_add=frozenset({'ВАФЛИ'}), confidence=0.6923076923076923, lift=2.1758241758241756)]),\n",
              " RelationRecord(items=frozenset({'ЧАЙ', 'ВАФЛИ', 'СЫРЫ'}), support=0.11363636363636363, ordered_statistics=[OrderedStatistic(items_base=frozenset({'ВАФЛИ', 'СЫРЫ'}), items_add=frozenset({'ЧАЙ'}), confidence=1.0, lift=1.3333333333333333)]),\n",
              " RelationRecord(items=frozenset({'МАКАРОННЫЕ ИЗДЕЛИЯ', 'МЕД', 'КЕТЧУПЫ, СОУСЫ, АДЖИКА'}), support=0.18181818181818182, ordered_statistics=[OrderedStatistic(items_base=frozenset({'МЕД', 'КЕТЧУПЫ, СОУСЫ, АДЖИКА'}), items_add=frozenset({'МАКАРОННЫЕ ИЗДЕЛИЯ'}), confidence=0.8888888888888888, lift=1.6296296296296298), OrderedStatistic(items_base=frozenset({'МАКАРОННЫЕ ИЗДЕЛИЯ', 'МЕД'}), items_add=frozenset({'КЕТЧУПЫ, СОУСЫ, АДЖИКА'}), confidence=0.8, lift=1.5304347826086957)]),\n",
              " RelationRecord(items=frozenset({'МАКАРОННЫЕ ИЗДЕЛИЯ', 'КЕТЧУПЫ, СОУСЫ, АДЖИКА', 'СЫРЫ'}), support=0.20454545454545456, ordered_statistics=[OrderedStatistic(items_base=frozenset({'КЕТЧУПЫ, СОУСЫ, АДЖИКА', 'СЫРЫ'}), items_add=frozenset({'МАКАРОННЫЕ ИЗДЕЛИЯ'}), confidence=0.9000000000000001, lift=1.6500000000000004), OrderedStatistic(items_base=frozenset({'МАКАРОННЫЕ ИЗДЕЛИЯ', 'СЫРЫ'}), items_add=frozenset({'КЕТЧУПЫ, СОУСЫ, АДЖИКА'}), confidence=0.9000000000000001, lift=1.7217391304347829)]),\n",
              " RelationRecord(items=frozenset({'ЧАЙ', 'МАКАРОННЫЕ ИЗДЕЛИЯ', 'КЕТЧУПЫ, СОУСЫ, АДЖИКА'}), support=0.22727272727272727, ordered_statistics=[OrderedStatistic(items_base=frozenset({'ЧАЙ', 'КЕТЧУПЫ, СОУСЫ, АДЖИКА'}), items_add=frozenset({'МАКАРОННЫЕ ИЗДЕЛИЯ'}), confidence=0.7692307692307692, lift=1.4102564102564101), OrderedStatistic(items_base=frozenset({'ЧАЙ', 'МАКАРОННЫЕ ИЗДЕЛИЯ'}), items_add=frozenset({'КЕТЧУПЫ, СОУСЫ, АДЖИКА'}), confidence=0.7692307692307692, lift=1.471571906354515)]),\n",
              " RelationRecord(items=frozenset({'МАКАРОННЫЕ ИЗДЕЛИЯ', 'СУХАРИ', 'СЫРЫ'}), support=0.022727272727272728, ordered_statistics=[OrderedStatistic(items_base=frozenset({'МАКАРОННЫЕ ИЗДЕЛИЯ', 'СУХАРИ'}), items_add=frozenset({'СЫРЫ'}), confidence=0.5, lift=1.1578947368421053)]),\n",
              " RelationRecord(items=frozenset({'МЕД', 'СУХАРИ', 'СЫРЫ'}), support=0.06818181818181818, ordered_statistics=[OrderedStatistic(items_base=frozenset({'СУХАРИ', 'СЫРЫ'}), items_add=frozenset({'МЕД'}), confidence=0.6, lift=1.2)]),\n",
              " RelationRecord(items=frozenset({'ЧАЙ', 'МЕД', 'СУХАРИ'}), support=0.1590909090909091, ordered_statistics=[OrderedStatistic(items_base=frozenset({'СУХАРИ'}), items_add=frozenset({'ЧАЙ', 'МЕД'}), confidence=0.5, lift=1.222222222222222), OrderedStatistic(items_base=frozenset({'МЕД', 'СУХАРИ'}), items_add=frozenset({'ЧАЙ'}), confidence=1.0, lift=1.3333333333333333), OrderedStatistic(items_base=frozenset({'ЧАЙ', 'СУХАРИ'}), items_add=frozenset({'МЕД'}), confidence=0.5384615384615384, lift=1.0769230769230769)]),\n",
              " RelationRecord(items=frozenset({'ЧАЙ', 'МЕД', 'СЫРЫ'}), support=0.18181818181818182, ordered_statistics=[OrderedStatistic(items_base=frozenset({'МЕД', 'СЫРЫ'}), items_add=frozenset({'ЧАЙ'}), confidence=1.0, lift=1.3333333333333333), OrderedStatistic(items_base=frozenset({'ЧАЙ', 'СЫРЫ'}), items_add=frozenset({'МЕД'}), confidence=0.6153846153846154, lift=1.2307692307692308)]),\n",
              " RelationRecord(items=frozenset({'ЧАЙ', 'СУХАРИ', 'СЫРЫ'}), support=0.11363636363636363, ordered_statistics=[OrderedStatistic(items_base=frozenset({'СУХАРИ', 'СЫРЫ'}), items_add=frozenset({'ЧАЙ'}), confidence=1.0, lift=1.3333333333333333)]),\n",
              " RelationRecord(items=frozenset({'МЕД', 'ВАФЛИ', 'СЫРЫ', 'СУХАРИ'}), support=0.045454545454545456, ordered_statistics=[OrderedStatistic(items_base=frozenset({'МЕД', 'ВАФЛИ', 'СУХАРИ'}), items_add=frozenset({'СЫРЫ'}), confidence=0.5, lift=1.1578947368421053), OrderedStatistic(items_base=frozenset({'МЕД', 'ВАФЛИ', 'СЫРЫ'}), items_add=frozenset({'СУХАРИ'}), confidence=0.6666666666666667, lift=2.0952380952380953), OrderedStatistic(items_base=frozenset({'ВАФЛИ', 'СЫРЫ', 'СУХАРИ'}), items_add=frozenset({'МЕД'}), confidence=0.6666666666666667, lift=1.3333333333333335), OrderedStatistic(items_base=frozenset({'МЕД', 'СУХАРИ', 'СЫРЫ'}), items_add=frozenset({'ВАФЛИ'}), confidence=0.6666666666666667, lift=2.0952380952380953)]),\n",
              " RelationRecord(items=frozenset({'ЧАЙ', 'МЕД', 'ВАФЛИ', 'СУХАРИ'}), support=0.09090909090909091, ordered_statistics=[OrderedStatistic(items_base=frozenset({'МЕД', 'ВАФЛИ'}), items_add=frozenset({'ЧАЙ', 'СУХАРИ'}), confidence=0.6666666666666667, lift=2.2564102564102564), OrderedStatistic(items_base=frozenset({'МЕД', 'СУХАРИ'}), items_add=frozenset({'ЧАЙ', 'ВАФЛИ'}), confidence=0.5714285714285715, lift=1.9340659340659343), OrderedStatistic(items_base=frozenset({'МЕД', 'ВАФЛИ', 'СУХАРИ'}), items_add=frozenset({'ЧАЙ'}), confidence=1.0, lift=1.3333333333333333), OrderedStatistic(items_base=frozenset({'ЧАЙ', 'МЕД', 'ВАФЛИ'}), items_add=frozenset({'СУХАРИ'}), confidence=0.6666666666666667, lift=2.0952380952380953), OrderedStatistic(items_base=frozenset({'ЧАЙ', 'МЕД', 'СУХАРИ'}), items_add=frozenset({'ВАФЛИ'}), confidence=0.5714285714285715, lift=1.795918367346939)]),\n",
              " RelationRecord(items=frozenset({'ЧАЙ', 'МЕД', 'ВАФЛИ', 'СЫРЫ'}), support=0.06818181818181818, ordered_statistics=[OrderedStatistic(items_base=frozenset({'МЕД', 'ВАФЛИ'}), items_add=frozenset({'ЧАЙ', 'СЫРЫ'}), confidence=0.5, lift=1.6923076923076923), OrderedStatistic(items_base=frozenset({'ВАФЛИ', 'СЫРЫ'}), items_add=frozenset({'ЧАЙ', 'МЕД'}), confidence=0.6, lift=1.4666666666666666), OrderedStatistic(items_base=frozenset({'МЕД', 'ВАФЛИ', 'СЫРЫ'}), items_add=frozenset({'ЧАЙ'}), confidence=1.0, lift=1.3333333333333333), OrderedStatistic(items_base=frozenset({'ЧАЙ', 'МЕД', 'ВАФЛИ'}), items_add=frozenset({'СЫРЫ'}), confidence=0.5, lift=1.1578947368421053), OrderedStatistic(items_base=frozenset({'ЧАЙ', 'ВАФЛИ', 'СЫРЫ'}), items_add=frozenset({'МЕД'}), confidence=0.6, lift=1.2)]),\n",
              " RelationRecord(items=frozenset({'ЧАЙ', 'ВАФЛИ', 'СЫРЫ', 'СУХАРИ'}), support=0.06818181818181818, ordered_statistics=[OrderedStatistic(items_base=frozenset({'ВАФЛИ', 'СЫРЫ'}), items_add=frozenset({'ЧАЙ', 'СУХАРИ'}), confidence=0.6, lift=2.0307692307692307), OrderedStatistic(items_base=frozenset({'СУХАРИ', 'СЫРЫ'}), items_add=frozenset({'ЧАЙ', 'ВАФЛИ'}), confidence=0.6, lift=2.0307692307692307), OrderedStatistic(items_base=frozenset({'ВАФЛИ', 'СЫРЫ', 'СУХАРИ'}), items_add=frozenset({'ЧАЙ'}), confidence=1.0, lift=1.3333333333333333), OrderedStatistic(items_base=frozenset({'ЧАЙ', 'ВАФЛИ', 'СЫРЫ'}), items_add=frozenset({'СУХАРИ'}), confidence=0.6, lift=1.8857142857142857), OrderedStatistic(items_base=frozenset({'ЧАЙ', 'СУХАРИ', 'СЫРЫ'}), items_add=frozenset({'ВАФЛИ'}), confidence=0.6, lift=1.8857142857142857)]),\n",
              " RelationRecord(items=frozenset({'МАКАРОННЫЕ ИЗДЕЛИЯ', 'МЕД', 'КЕТЧУПЫ, СОУСЫ, АДЖИКА', 'СЫРЫ'}), support=0.045454545454545456, ordered_statistics=[OrderedStatistic(items_base=frozenset({'МЕД', 'КЕТЧУПЫ, СОУСЫ, АДЖИКА', 'СЫРЫ'}), items_add=frozenset({'МАКАРОННЫЕ ИЗДЕЛИЯ'}), confidence=1.0, lift=1.8333333333333335), OrderedStatistic(items_base=frozenset({'МАКАРОННЫЕ ИЗДЕЛИЯ', 'МЕД', 'СЫРЫ'}), items_add=frozenset({'КЕТЧУПЫ, СОУСЫ, АДЖИКА'}), confidence=1.0, lift=1.9130434782608696)]),\n",
              " RelationRecord(items=frozenset({'ЧАЙ', 'МАКАРОННЫЕ ИЗДЕЛИЯ', 'МЕД', 'КЕТЧУПЫ, СОУСЫ, АДЖИКА'}), support=0.09090909090909091, ordered_statistics=[OrderedStatistic(items_base=frozenset({'ЧАЙ', 'МЕД', 'КЕТЧУПЫ, СОУСЫ, АДЖИКА'}), items_add=frozenset({'МАКАРОННЫЕ ИЗДЕЛИЯ'}), confidence=0.8, lift=1.4666666666666668), OrderedStatistic(items_base=frozenset({'ЧАЙ', 'МАКАРОННЫЕ ИЗДЕЛИЯ', 'МЕД'}), items_add=frozenset({'КЕТЧУПЫ, СОУСЫ, АДЖИКА'}), confidence=0.6666666666666667, lift=1.2753623188405798)]),\n",
              " RelationRecord(items=frozenset({'ЧАЙ', 'МАКАРОННЫЕ ИЗДЕЛИЯ', 'КЕТЧУПЫ, СОУСЫ, АДЖИКА', 'СЫРЫ'}), support=0.06818181818181818, ordered_statistics=[OrderedStatistic(items_base=frozenset({'ЧАЙ', 'КЕТЧУПЫ, СОУСЫ, АДЖИКА', 'СЫРЫ'}), items_add=frozenset({'МАКАРОННЫЕ ИЗДЕЛИЯ'}), confidence=0.7499999999999999, lift=1.375), OrderedStatistic(items_base=frozenset({'ЧАЙ', 'МАКАРОННЫЕ ИЗДЕЛИЯ', 'СЫРЫ'}), items_add=frozenset({'КЕТЧУПЫ, СОУСЫ, АДЖИКА'}), confidence=0.7499999999999999, lift=1.434782608695652)]),\n",
              " RelationRecord(items=frozenset({'ЧАЙ', 'МЕД', 'КЕТЧУПЫ, СОУСЫ, АДЖИКА', 'СЫРЫ'}), support=0.045454545454545456, ordered_statistics=[OrderedStatistic(items_base=frozenset({'МЕД', 'КЕТЧУПЫ, СОУСЫ, АДЖИКА', 'СЫРЫ'}), items_add=frozenset({'ЧАЙ'}), confidence=1.0, lift=1.3333333333333333)]),\n",
              " RelationRecord(items=frozenset({'ЧАЙ', 'МАКАРОННЫЕ ИЗДЕЛИЯ', 'МЕД', 'СЫРЫ'}), support=0.045454545454545456, ordered_statistics=[OrderedStatistic(items_base=frozenset({'МАКАРОННЫЕ ИЗДЕЛИЯ', 'МЕД', 'СЫРЫ'}), items_add=frozenset({'ЧАЙ'}), confidence=1.0, lift=1.3333333333333333)]),\n",
              " RelationRecord(items=frozenset({'ЧАЙ', 'МАКАРОННЫЕ ИЗДЕЛИЯ', 'СУХАРИ', 'СЫРЫ'}), support=0.022727272727272728, ordered_statistics=[OrderedStatistic(items_base=frozenset({'МАКАРОННЫЕ ИЗДЕЛИЯ', 'СУХАРИ'}), items_add=frozenset({'ЧАЙ', 'СЫРЫ'}), confidence=0.5, lift=1.6923076923076923), OrderedStatistic(items_base=frozenset({'МАКАРОННЫЕ ИЗДЕЛИЯ', 'СУХАРИ', 'СЫРЫ'}), items_add=frozenset({'ЧАЙ'}), confidence=1.0, lift=1.3333333333333333), OrderedStatistic(items_base=frozenset({'ЧАЙ', 'МАКАРОННЫЕ ИЗДЕЛИЯ', 'СУХАРИ'}), items_add=frozenset({'СЫРЫ'}), confidence=1.0, lift=2.3157894736842106)]),\n",
              " RelationRecord(items=frozenset({'ЧАЙ', 'МЕД', 'СУХАРИ', 'СЫРЫ'}), support=0.06818181818181818, ordered_statistics=[OrderedStatistic(items_base=frozenset({'СУХАРИ', 'СЫРЫ'}), items_add=frozenset({'ЧАЙ', 'МЕД'}), confidence=0.6, lift=1.4666666666666666), OrderedStatistic(items_base=frozenset({'МЕД', 'СУХАРИ', 'СЫРЫ'}), items_add=frozenset({'ЧАЙ'}), confidence=1.0, lift=1.3333333333333333), OrderedStatistic(items_base=frozenset({'ЧАЙ', 'СУХАРИ', 'СЫРЫ'}), items_add=frozenset({'МЕД'}), confidence=0.6, lift=1.2)]),\n",
              " RelationRecord(items=frozenset({'ВАФЛИ', 'СЫРЫ', 'ЧАЙ', 'МЕД', 'СУХАРИ'}), support=0.045454545454545456, ordered_statistics=[OrderedStatistic(items_base=frozenset({'МЕД', 'ВАФЛИ', 'СУХАРИ'}), items_add=frozenset({'ЧАЙ', 'СЫРЫ'}), confidence=0.5, lift=1.6923076923076923), OrderedStatistic(items_base=frozenset({'МЕД', 'ВАФЛИ', 'СЫРЫ'}), items_add=frozenset({'ЧАЙ', 'СУХАРИ'}), confidence=0.6666666666666667, lift=2.2564102564102564), OrderedStatistic(items_base=frozenset({'ВАФЛИ', 'СЫРЫ', 'СУХАРИ'}), items_add=frozenset({'ЧАЙ', 'МЕД'}), confidence=0.6666666666666667, lift=1.6296296296296298), OrderedStatistic(items_base=frozenset({'МЕД', 'СУХАРИ', 'СЫРЫ'}), items_add=frozenset({'ЧАЙ', 'ВАФЛИ'}), confidence=0.6666666666666667, lift=2.2564102564102564), OrderedStatistic(items_base=frozenset({'МЕД', 'ВАФЛИ', 'СЫРЫ', 'СУХАРИ'}), items_add=frozenset({'ЧАЙ'}), confidence=1.0, lift=1.3333333333333333), OrderedStatistic(items_base=frozenset({'ЧАЙ', 'МЕД', 'ВАФЛИ', 'СУХАРИ'}), items_add=frozenset({'СЫРЫ'}), confidence=0.5, lift=1.1578947368421053), OrderedStatistic(items_base=frozenset({'ЧАЙ', 'МЕД', 'ВАФЛИ', 'СЫРЫ'}), items_add=frozenset({'СУХАРИ'}), confidence=0.6666666666666667, lift=2.0952380952380953), OrderedStatistic(items_base=frozenset({'ЧАЙ', 'ВАФЛИ', 'СЫРЫ', 'СУХАРИ'}), items_add=frozenset({'МЕД'}), confidence=0.6666666666666667, lift=1.3333333333333335), OrderedStatistic(items_base=frozenset({'ЧАЙ', 'МЕД', 'СУХАРИ', 'СЫРЫ'}), items_add=frozenset({'ВАФЛИ'}), confidence=0.6666666666666667, lift=2.0952380952380953)]),\n",
              " RelationRecord(items=frozenset({'КЕТЧУПЫ, СОУСЫ, АДЖИКА', 'СЫРЫ', 'ЧАЙ', 'МЕД', 'МАКАРОННЫЕ ИЗДЕЛИЯ'}), support=0.045454545454545456, ordered_statistics=[OrderedStatistic(items_base=frozenset({'МЕД', 'КЕТЧУПЫ, СОУСЫ, АДЖИКА', 'СЫРЫ'}), items_add=frozenset({'ЧАЙ', 'МАКАРОННЫЕ ИЗДЕЛИЯ'}), confidence=1.0, lift=3.3846153846153846), OrderedStatistic(items_base=frozenset({'ЧАЙ', 'КЕТЧУПЫ, СОУСЫ, АДЖИКА', 'СЫРЫ'}), items_add=frozenset({'МАКАРОННЫЕ ИЗДЕЛИЯ', 'МЕД'}), confidence=0.5, lift=2.2), OrderedStatistic(items_base=frozenset({'МАКАРОННЫЕ ИЗДЕЛИЯ', 'МЕД', 'СЫРЫ'}), items_add=frozenset({'ЧАЙ', 'КЕТЧУПЫ, СОУСЫ, АДЖИКА'}), confidence=1.0, lift=3.3846153846153846), OrderedStatistic(items_base=frozenset({'ЧАЙ', 'МАКАРОННЫЕ ИЗДЕЛИЯ', 'СЫРЫ'}), items_add=frozenset({'МЕД', 'КЕТЧУПЫ, СОУСЫ, АДЖИКА'}), confidence=0.5, lift=2.444444444444444), OrderedStatistic(items_base=frozenset({'МАКАРОННЫЕ ИЗДЕЛИЯ', 'МЕД', 'КЕТЧУПЫ, СОУСЫ, АДЖИКА', 'СЫРЫ'}), items_add=frozenset({'ЧАЙ'}), confidence=1.0, lift=1.3333333333333333), OrderedStatistic(items_base=frozenset({'ЧАЙ', 'МАКАРОННЫЕ ИЗДЕЛИЯ', 'МЕД', 'КЕТЧУПЫ, СОУСЫ, АДЖИКА'}), items_add=frozenset({'СЫРЫ'}), confidence=0.5, lift=1.1578947368421053), OrderedStatistic(items_base=frozenset({'ЧАЙ', 'МАКАРОННЫЕ ИЗДЕЛИЯ', 'КЕТЧУПЫ, СОУСЫ, АДЖИКА', 'СЫРЫ'}), items_add=frozenset({'МЕД'}), confidence=0.6666666666666667, lift=1.3333333333333335), OrderedStatistic(items_base=frozenset({'ЧАЙ', 'МЕД', 'КЕТЧУПЫ, СОУСЫ, АДЖИКА', 'СЫРЫ'}), items_add=frozenset({'МАКАРОННЫЕ ИЗДЕЛИЯ'}), confidence=1.0, lift=1.8333333333333335), OrderedStatistic(items_base=frozenset({'ЧАЙ', 'МАКАРОННЫЕ ИЗДЕЛИЯ', 'МЕД', 'СЫРЫ'}), items_add=frozenset({'КЕТЧУПЫ, СОУСЫ, АДЖИКА'}), confidence=1.0, lift=1.9130434782608696)])]"
            ]
          },
          "metadata": {},
          "execution_count": 28
        }
      ]
    },
    {
      "cell_type": "code",
      "source": [
        "for item in rules:\n",
        "    pair = item[2][0]\n",
        "    base = [x for x in pair.items_base]\n",
        "    add = [x for x in pair.items_add]\n",
        "    base_str = ', '.join(base)\n",
        "    add_str = ', '.join(add)\n",
        "    print('({}) ==> ({}) sup = {}, conf = {}, lift = {}'.format(base_str, add_str, str(round(item[1],3)), str(round(item[2][0][2],3)), str(round(item[2][0][3],3))))"
      ],
      "metadata": {
        "colab": {
          "base_uri": "https://localhost:8080/"
        },
        "id": "ukuOZ4r_EwL3",
        "outputId": "291610df-7cc3-4764-bfef-a8e5a03aa310"
      },
      "execution_count": null,
      "outputs": [
        {
          "output_type": "stream",
          "name": "stdout",
          "text": [
            "(ВАФЛИ) ==> (СУХАРИ) sup = 0.227, conf = 0.714, lift = 2.245\n",
            "(ВАФЛИ) ==> (ЧАЙ) sup = 0.295, conf = 0.929, lift = 1.238\n",
            "(КЕТЧУПЫ, СОУСЫ, АДЖИКА) ==> (МАКАРОННЫЕ ИЗДЕЛИЯ) sup = 0.455, conf = 0.87, lift = 1.594\n",
            "(МЕД) ==> (ЧАЙ) sup = 0.409, conf = 0.818, lift = 1.091\n",
            "(СУХАРИ) ==> (ЧАЙ) sup = 0.295, conf = 0.929, lift = 1.238\n",
            "(ВАФЛИ, КЕТЧУПЫ, СОУСЫ, АДЖИКА) ==> (ЧАЙ) sup = 0.023, conf = 1.0, lift = 1.333\n",
            "(МАКАРОННЫЕ ИЗДЕЛИЯ, ВАФЛИ) ==> (СУХАРИ) sup = 0.023, conf = 1.0, lift = 3.143\n",
            "(МЕД, ВАФЛИ) ==> (СУХАРИ) sup = 0.091, conf = 0.667, lift = 2.095\n",
            "(МЕД, ВАФЛИ) ==> (СЫРЫ) sup = 0.068, conf = 0.5, lift = 1.158\n",
            "(МЕД, ВАФЛИ) ==> (ЧАЙ) sup = 0.136, conf = 1.0, lift = 1.333\n",
            "(ВАФЛИ, СЫРЫ) ==> (СУХАРИ) sup = 0.068, conf = 0.6, lift = 1.886\n",
            "(ВАФЛИ) ==> (ЧАЙ, СУХАРИ) sup = 0.205, conf = 0.643, lift = 2.176\n",
            "(ВАФЛИ, СЫРЫ) ==> (ЧАЙ) sup = 0.114, conf = 1.0, lift = 1.333\n",
            "(МЕД, КЕТЧУПЫ, СОУСЫ, АДЖИКА) ==> (МАКАРОННЫЕ ИЗДЕЛИЯ) sup = 0.182, conf = 0.889, lift = 1.63\n",
            "(КЕТЧУПЫ, СОУСЫ, АДЖИКА, СЫРЫ) ==> (МАКАРОННЫЕ ИЗДЕЛИЯ) sup = 0.205, conf = 0.9, lift = 1.65\n",
            "(ЧАЙ, КЕТЧУПЫ, СОУСЫ, АДЖИКА) ==> (МАКАРОННЫЕ ИЗДЕЛИЯ) sup = 0.227, conf = 0.769, lift = 1.41\n",
            "(МАКАРОННЫЕ ИЗДЕЛИЯ, СУХАРИ) ==> (СЫРЫ) sup = 0.023, conf = 0.5, lift = 1.158\n",
            "(СУХАРИ, СЫРЫ) ==> (МЕД) sup = 0.068, conf = 0.6, lift = 1.2\n",
            "(СУХАРИ) ==> (ЧАЙ, МЕД) sup = 0.159, conf = 0.5, lift = 1.222\n",
            "(МЕД, СЫРЫ) ==> (ЧАЙ) sup = 0.182, conf = 1.0, lift = 1.333\n",
            "(СУХАРИ, СЫРЫ) ==> (ЧАЙ) sup = 0.114, conf = 1.0, lift = 1.333\n",
            "(МЕД, ВАФЛИ, СУХАРИ) ==> (СЫРЫ) sup = 0.045, conf = 0.5, lift = 1.158\n",
            "(МЕД, ВАФЛИ) ==> (ЧАЙ, СУХАРИ) sup = 0.091, conf = 0.667, lift = 2.256\n",
            "(МЕД, ВАФЛИ) ==> (ЧАЙ, СЫРЫ) sup = 0.068, conf = 0.5, lift = 1.692\n",
            "(ВАФЛИ, СЫРЫ) ==> (ЧАЙ, СУХАРИ) sup = 0.068, conf = 0.6, lift = 2.031\n",
            "(МЕД, КЕТЧУПЫ, СОУСЫ, АДЖИКА, СЫРЫ) ==> (МАКАРОННЫЕ ИЗДЕЛИЯ) sup = 0.045, conf = 1.0, lift = 1.833\n",
            "(ЧАЙ, МЕД, КЕТЧУПЫ, СОУСЫ, АДЖИКА) ==> (МАКАРОННЫЕ ИЗДЕЛИЯ) sup = 0.091, conf = 0.8, lift = 1.467\n",
            "(ЧАЙ, КЕТЧУПЫ, СОУСЫ, АДЖИКА, СЫРЫ) ==> (МАКАРОННЫЕ ИЗДЕЛИЯ) sup = 0.068, conf = 0.75, lift = 1.375\n",
            "(МЕД, КЕТЧУПЫ, СОУСЫ, АДЖИКА, СЫРЫ) ==> (ЧАЙ) sup = 0.045, conf = 1.0, lift = 1.333\n",
            "(МАКАРОННЫЕ ИЗДЕЛИЯ, МЕД, СЫРЫ) ==> (ЧАЙ) sup = 0.045, conf = 1.0, lift = 1.333\n",
            "(МАКАРОННЫЕ ИЗДЕЛИЯ, СУХАРИ) ==> (ЧАЙ, СЫРЫ) sup = 0.023, conf = 0.5, lift = 1.692\n",
            "(СУХАРИ, СЫРЫ) ==> (ЧАЙ, МЕД) sup = 0.068, conf = 0.6, lift = 1.467\n",
            "(МЕД, ВАФЛИ, СУХАРИ) ==> (ЧАЙ, СЫРЫ) sup = 0.045, conf = 0.5, lift = 1.692\n",
            "(МЕД, КЕТЧУПЫ, СОУСЫ, АДЖИКА, СЫРЫ) ==> (ЧАЙ, МАКАРОННЫЕ ИЗДЕЛИЯ) sup = 0.045, conf = 1.0, lift = 3.385\n"
          ]
        }
      ]
    }
  ]
}