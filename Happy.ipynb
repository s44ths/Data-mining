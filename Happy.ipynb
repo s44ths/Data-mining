{
  "nbformat": 4,
  "nbformat_minor": 0,
  "metadata": {
    "colab": {
      "provenance": [],
      "authorship_tag": "ABX9TyN8cST9AqBOjYXH8wMZdlE8",
      "include_colab_link": true
    },
    "kernelspec": {
      "name": "python3",
      "display_name": "Python 3"
    },
    "language_info": {
      "name": "python"
    },
    "widgets": {
      "application/vnd.jupyter.widget-state+json": {
        "893b1c0ce4924e46adb566889a7582ae": {
          "model_module": "catboost-widget",
          "model_name": "CatboostWidgetModel",
          "model_module_version": "^1.0.0",
          "state": {
            "_dom_classes": [],
            "_model_module": "catboost-widget",
            "_model_module_version": "^1.0.0",
            "_model_name": "CatboostWidgetModel",
            "_view_count": null,
            "_view_module": "catboost-widget",
            "_view_module_version": "^1.0.0",
            "_view_name": "CatboostWidgetView",
            "data": {
              "catboost_info": {
                "path": "catboost_info",
                "name": "catboost_info",
                "content": {
                  "passed_iterations": 499,
                  "total_iterations": 500,
                  "data": {
                    "iterations": [
                      {
                        "learn": [
                          0.684154525
                        ],
                        "iteration": 0,
                        "passed_time": 0.04968125415,
                        "remaining_time": 24.79094582
                      },
                      {
                        "learn": [
                          0.6698247431
                        ],
                        "iteration": 1,
                        "passed_time": 0.04989710691,
                        "remaining_time": 12.42437962
                      },
                      {
                        "learn": [
                          0.661117923
                        ],
                        "iteration": 2,
                        "passed_time": 0.05004275728,
                        "remaining_time": 8.290416789
                      },
                      {
                        "learn": [
                          0.6599848211
                        ],
                        "iteration": 3,
                        "passed_time": 0.05015441262,
                        "remaining_time": 6.219147165
                      },
                      {
                        "learn": [
                          0.6438978273
                        ],
                        "iteration": 4,
                        "passed_time": 0.05029591379,
                        "remaining_time": 4.979295465
                      },
                      {
                        "learn": [
                          0.6367856331
                        ],
                        "iteration": 5,
                        "passed_time": 0.05043280028,
                        "remaining_time": 4.152300556
                      },
                      {
                        "learn": [
                          0.6337352771
                        ],
                        "iteration": 6,
                        "passed_time": 0.05056990951,
                        "remaining_time": 3.561566484
                      },
                      {
                        "learn": [
                          0.6272481605
                        ],
                        "iteration": 7,
                        "passed_time": 0.05072078229,
                        "remaining_time": 3.119328111
                      },
                      {
                        "learn": [
                          0.6211238395
                        ],
                        "iteration": 8,
                        "passed_time": 0.05083944056,
                        "remaining_time": 2.773573924
                      },
                      {
                        "learn": [
                          0.6182944964
                        ],
                        "iteration": 9,
                        "passed_time": 0.05098785101,
                        "remaining_time": 2.498404699
                      },
                      {
                        "learn": [
                          0.6093635442
                        ],
                        "iteration": 10,
                        "passed_time": 0.05112554707,
                        "remaining_time": 2.272762956
                      },
                      {
                        "learn": [
                          0.6036840103
                        ],
                        "iteration": 11,
                        "passed_time": 0.05126139717,
                        "remaining_time": 2.084630152
                      },
                      {
                        "learn": [
                          0.5994508124
                        ],
                        "iteration": 12,
                        "passed_time": 0.05142523077,
                        "remaining_time": 1.92646826
                      },
                      {
                        "learn": [
                          0.5951327651
                        ],
                        "iteration": 13,
                        "passed_time": 0.05157052476,
                        "remaining_time": 1.790233931
                      },
                      {
                        "learn": [
                          0.5880250786
                        ],
                        "iteration": 14,
                        "passed_time": 0.05170691306,
                        "remaining_time": 1.671856856
                      },
                      {
                        "learn": [
                          0.5781877236
                        ],
                        "iteration": 15,
                        "passed_time": 0.05185075975,
                        "remaining_time": 1.568485482
                      },
                      {
                        "learn": [
                          0.5706235382
                        ],
                        "iteration": 16,
                        "passed_time": 0.05198610665,
                        "remaining_time": 1.47701703
                      },
                      {
                        "learn": [
                          0.5691718281
                        ],
                        "iteration": 17,
                        "passed_time": 0.05211903304,
                        "remaining_time": 1.395631885
                      },
                      {
                        "learn": [
                          0.5657465447
                        ],
                        "iteration": 18,
                        "passed_time": 0.05228215889,
                        "remaining_time": 1.323564128
                      },
                      {
                        "learn": [
                          0.5614810374
                        ],
                        "iteration": 19,
                        "passed_time": 0.05242308277,
                        "remaining_time": 1.258153986
                      },
                      {
                        "learn": [
                          0.5599578118
                        ],
                        "iteration": 20,
                        "passed_time": 0.05256063791,
                        "remaining_time": 1.198883122
                      },
                      {
                        "learn": [
                          0.5528362783
                        ],
                        "iteration": 21,
                        "passed_time": 0.05270292365,
                        "remaining_time": 1.145090796
                      },
                      {
                        "learn": [
                          0.5526750662
                        ],
                        "iteration": 22,
                        "passed_time": 0.05280370551,
                        "remaining_time": 1.095102936
                      },
                      {
                        "learn": [
                          0.5517846892
                        ],
                        "iteration": 23,
                        "passed_time": 0.05293855877,
                        "remaining_time": 1.049948082
                      },
                      {
                        "learn": [
                          0.5459195927
                        ],
                        "iteration": 24,
                        "passed_time": 0.05723969392,
                        "remaining_time": 1.087554185
                      },
                      {
                        "learn": [
                          0.5434630413
                        ],
                        "iteration": 25,
                        "passed_time": 0.05758729212,
                        "remaining_time": 1.049860633
                      },
                      {
                        "learn": [
                          0.5413828765
                        ],
                        "iteration": 26,
                        "passed_time": 0.05773570666,
                        "remaining_time": 1.011444046
                      },
                      {
                        "learn": [
                          0.5379649378
                        ],
                        "iteration": 27,
                        "passed_time": 0.05787602052,
                        "remaining_time": 0.9756243459
                      },
                      {
                        "learn": [
                          0.5370262516
                        ],
                        "iteration": 28,
                        "passed_time": 0.05806068196,
                        "remaining_time": 0.9429855588
                      },
                      {
                        "learn": [
                          0.5322807164
                        ],
                        "iteration": 29,
                        "passed_time": 0.05820309588,
                        "remaining_time": 0.9118485021
                      },
                      {
                        "learn": [
                          0.5312760628
                        ],
                        "iteration": 30,
                        "passed_time": 0.05834500479,
                        "remaining_time": 0.8827034595
                      },
                      {
                        "learn": [
                          0.5294296469
                        ],
                        "iteration": 31,
                        "passed_time": 0.05848926148,
                        "remaining_time": 0.8554054492
                      },
                      {
                        "learn": [
                          0.5281989792
                        ],
                        "iteration": 32,
                        "passed_time": 0.05864183295,
                        "remaining_time": 0.8298707875
                      },
                      {
                        "learn": [
                          0.5233746032
                        ],
                        "iteration": 33,
                        "passed_time": 0.05881290993,
                        "remaining_time": 0.8060828244
                      },
                      {
                        "learn": [
                          0.5169888373
                        ],
                        "iteration": 34,
                        "passed_time": 0.05895670662,
                        "remaining_time": 0.7832819593
                      },
                      {
                        "learn": [
                          0.5151464126
                        ],
                        "iteration": 35,
                        "passed_time": 0.05909125668,
                        "remaining_time": 0.7616206417
                      },
                      {
                        "learn": [
                          0.5110303219
                        ],
                        "iteration": 36,
                        "passed_time": 0.05937701545,
                        "remaining_time": 0.7430150853
                      },
                      {
                        "learn": [
                          0.5068052779
                        ],
                        "iteration": 37,
                        "passed_time": 0.05956018504,
                        "remaining_time": 0.7241264602
                      },
                      {
                        "learn": [
                          0.502490706
                        ],
                        "iteration": 38,
                        "passed_time": 0.05977985335,
                        "remaining_time": 0.706628523
                      },
                      {
                        "learn": [
                          0.4998942714
                        ],
                        "iteration": 39,
                        "passed_time": 0.05992562691,
                        "remaining_time": 0.6891447095
                      },
                      {
                        "learn": [
                          0.4924141369
                        ],
                        "iteration": 40,
                        "passed_time": 0.06007608605,
                        "remaining_time": 0.6725591097
                      },
                      {
                        "learn": [
                          0.4907710859
                        ],
                        "iteration": 41,
                        "passed_time": 0.06022243599,
                        "remaining_time": 0.6567113257
                      },
                      {
                        "learn": [
                          0.4898576865
                        ],
                        "iteration": 42,
                        "passed_time": 0.06035984022,
                        "remaining_time": 0.641498767
                      },
                      {
                        "learn": [
                          0.4890544203
                        ],
                        "iteration": 43,
                        "passed_time": 0.06053118357,
                        "remaining_time": 0.6273231752
                      },
                      {
                        "learn": [
                          0.4869877356
                        ],
                        "iteration": 44,
                        "passed_time": 0.06067027467,
                        "remaining_time": 0.6134438883
                      },
                      {
                        "learn": [
                          0.486314002
                        ],
                        "iteration": 45,
                        "passed_time": 0.06080703707,
                        "remaining_time": 0.600139018
                      },
                      {
                        "learn": [
                          0.4846167759
                        ],
                        "iteration": 46,
                        "passed_time": 0.06095185105,
                        "remaining_time": 0.5874720963
                      },
                      {
                        "learn": [
                          0.4837023883
                        ],
                        "iteration": 47,
                        "passed_time": 0.06108897346,
                        "remaining_time": 0.5752545001
                      },
                      {
                        "learn": [
                          0.4832985045
                        ],
                        "iteration": 48,
                        "passed_time": 0.06122491266,
                        "remaining_time": 0.563519094
                      },
                      {
                        "learn": [
                          0.4822262643
                        ],
                        "iteration": 49,
                        "passed_time": 0.06556311883,
                        "remaining_time": 0.5900680695
                      },
                      {
                        "learn": [
                          0.478040186
                        ],
                        "iteration": 50,
                        "passed_time": 0.06571116245,
                        "remaining_time": 0.5785159204
                      },
                      {
                        "learn": [
                          0.4761662478
                        ],
                        "iteration": 51,
                        "passed_time": 0.06586359301,
                        "remaining_time": 0.5674401859
                      },
                      {
                        "learn": [
                          0.4747977886
                        ],
                        "iteration": 52,
                        "passed_time": 0.06599917037,
                        "remaining_time": 0.5566345124
                      },
                      {
                        "learn": [
                          0.473266855
                        ],
                        "iteration": 53,
                        "passed_time": 0.06615434237,
                        "remaining_time": 0.5463858648
                      },
                      {
                        "learn": [
                          0.4706619816
                        ],
                        "iteration": 54,
                        "passed_time": 0.0662990859,
                        "remaining_time": 0.5364198768
                      },
                      {
                        "learn": [
                          0.4646484044
                        ],
                        "iteration": 55,
                        "passed_time": 0.06643600921,
                        "remaining_time": 0.5267426445
                      },
                      {
                        "learn": [
                          0.4623965303
                        ],
                        "iteration": 56,
                        "passed_time": 0.0665806891,
                        "remaining_time": 0.5174604434
                      },
                      {
                        "learn": [
                          0.4599298038
                        ],
                        "iteration": 57,
                        "passed_time": 0.06671877199,
                        "remaining_time": 0.5084430555
                      },
                      {
                        "learn": [
                          0.4556721499
                        ],
                        "iteration": 58,
                        "passed_time": 0.06686891339,
                        "remaining_time": 0.4998167933
                      },
                      {
                        "learn": [
                          0.4538096117
                        ],
                        "iteration": 59,
                        "passed_time": 0.0670356348,
                        "remaining_time": 0.4915946552
                      },
                      {
                        "learn": [
                          0.4527618618
                        ],
                        "iteration": 60,
                        "passed_time": 0.06717321904,
                        "remaining_time": 0.483426937
                      },
                      {
                        "learn": [
                          0.4488818445
                        ],
                        "iteration": 61,
                        "passed_time": 0.06730912823,
                        "remaining_time": 0.475506422
                      },
                      {
                        "learn": [
                          0.4486970411
                        ],
                        "iteration": 62,
                        "passed_time": 0.06740968055,
                        "remaining_time": 0.4675877841
                      },
                      {
                        "learn": [
                          0.4458155663
                        ],
                        "iteration": 63,
                        "passed_time": 0.06754293012,
                        "remaining_time": 0.4601362114
                      },
                      {
                        "learn": [
                          0.4419940487
                        ],
                        "iteration": 64,
                        "passed_time": 0.06770140994,
                        "remaining_time": 0.4530786665
                      },
                      {
                        "learn": [
                          0.438527681
                        ],
                        "iteration": 65,
                        "passed_time": 0.06786611219,
                        "remaining_time": 0.4462711014
                      },
                      {
                        "learn": [
                          0.4371270354
                        ],
                        "iteration": 66,
                        "passed_time": 0.06800667424,
                        "remaining_time": 0.4395058201
                      },
                      {
                        "learn": [
                          0.4359898386
                        ],
                        "iteration": 67,
                        "passed_time": 0.06813808877,
                        "remaining_time": 0.4328772698
                      },
                      {
                        "learn": [
                          0.4354443567
                        ],
                        "iteration": 68,
                        "passed_time": 0.06829434307,
                        "remaining_time": 0.4265922009
                      },
                      {
                        "learn": [
                          0.4339102454
                        ],
                        "iteration": 69,
                        "passed_time": 0.06843069727,
                        "remaining_time": 0.4203599975
                      },
                      {
                        "learn": [
                          0.4312622035
                        ],
                        "iteration": 70,
                        "passed_time": 0.06856547553,
                        "remaining_time": 0.4142899859
                      },
                      {
                        "learn": [
                          0.4290036637
                        ],
                        "iteration": 71,
                        "passed_time": 0.06872910912,
                        "remaining_time": 0.4085563709
                      },
                      {
                        "learn": [
                          0.4240274243
                        ],
                        "iteration": 72,
                        "passed_time": 0.06887493086,
                        "remaining_time": 0.4028711709
                      },
                      {
                        "learn": [
                          0.4234749224
                        ],
                        "iteration": 73,
                        "passed_time": 0.06901253874,
                        "remaining_time": 0.3972883987
                      },
                      {
                        "learn": [
                          0.4192074231
                        ],
                        "iteration": 74,
                        "passed_time": 0.0691647252,
                        "remaining_time": 0.3919334428
                      },
                      {
                        "learn": [
                          0.418088713
                        ],
                        "iteration": 75,
                        "passed_time": 0.07348447086,
                        "remaining_time": 0.4099659953
                      },
                      {
                        "learn": [
                          0.4164212672
                        ],
                        "iteration": 76,
                        "passed_time": 0.07366619677,
                        "remaining_time": 0.4046857303
                      },
                      {
                        "learn": [
                          0.4147625591
                        ],
                        "iteration": 77,
                        "passed_time": 0.07380797567,
                        "remaining_time": 0.3993200735
                      },
                      {
                        "learn": [
                          0.4125098399
                        ],
                        "iteration": 78,
                        "passed_time": 0.07395131052,
                        "remaining_time": 0.3940949586
                      },
                      {
                        "learn": [
                          0.4080879861
                        ],
                        "iteration": 79,
                        "passed_time": 0.07409420809,
                        "remaining_time": 0.3889945925
                      },
                      {
                        "learn": [
                          0.4068262145
                        ],
                        "iteration": 80,
                        "passed_time": 0.07423108822,
                        "remaining_time": 0.3839855057
                      },
                      {
                        "learn": [
                          0.4057696879
                        ],
                        "iteration": 81,
                        "passed_time": 0.07440225748,
                        "remaining_time": 0.3792700442
                      },
                      {
                        "learn": [
                          0.403353434
                        ],
                        "iteration": 82,
                        "passed_time": 0.0745493047,
                        "remaining_time": 0.3745428923
                      },
                      {
                        "learn": [
                          0.4005615759
                        ],
                        "iteration": 83,
                        "passed_time": 0.074685563,
                        "remaining_time": 0.3698713596
                      },
                      {
                        "learn": [
                          0.3993454498
                        ],
                        "iteration": 84,
                        "passed_time": 0.07481690752,
                        "remaining_time": 0.3652825485
                      },
                      {
                        "learn": [
                          0.3972769711
                        ],
                        "iteration": 85,
                        "passed_time": 0.07495299808,
                        "remaining_time": 0.3608202466
                      },
                      {
                        "learn": [
                          0.3949191473
                        ],
                        "iteration": 86,
                        "passed_time": 0.07508837044,
                        "remaining_time": 0.3564539884
                      },
                      {
                        "learn": [
                          0.3920264472
                        ],
                        "iteration": 87,
                        "passed_time": 0.07525842558,
                        "remaining_time": 0.3523462652
                      },
                      {
                        "learn": [
                          0.3917234323
                        ],
                        "iteration": 88,
                        "passed_time": 0.0753763911,
                        "remaining_time": 0.3480864802
                      },
                      {
                        "learn": [
                          0.3898876454
                        ],
                        "iteration": 89,
                        "passed_time": 0.07551163936,
                        "remaining_time": 0.3439974682
                      },
                      {
                        "learn": [
                          0.3876324494
                        ],
                        "iteration": 90,
                        "passed_time": 0.07565293961,
                        "remaining_time": 0.3400225528
                      },
                      {
                        "learn": [
                          0.3864694474
                        ],
                        "iteration": 91,
                        "passed_time": 0.07578639101,
                        "remaining_time": 0.3360961688
                      },
                      {
                        "learn": [
                          0.3846381407
                        ],
                        "iteration": 92,
                        "passed_time": 0.0759251621,
                        "remaining_time": 0.3322746342
                      },
                      {
                        "learn": [
                          0.3816952641
                        ],
                        "iteration": 93,
                        "passed_time": 0.07609352355,
                        "remaining_time": 0.3286592613
                      },
                      {
                        "learn": [
                          0.3803396685
                        ],
                        "iteration": 94,
                        "passed_time": 0.07622906683,
                        "remaining_time": 0.3249765481
                      },
                      {
                        "learn": [
                          0.3786142733
                        ],
                        "iteration": 95,
                        "passed_time": 0.07639510731,
                        "remaining_time": 0.3214960766
                      },
                      {
                        "learn": [
                          0.3768221084
                        ],
                        "iteration": 96,
                        "passed_time": 0.07661327694,
                        "remaining_time": 0.3183005217
                      },
                      {
                        "learn": [
                          0.3746269816
                        ],
                        "iteration": 97,
                        "passed_time": 0.0768347094,
                        "remaining_time": 0.3151791141
                      },
                      {
                        "learn": [
                          0.3730159235
                        ],
                        "iteration": 98,
                        "passed_time": 0.0770187081,
                        "remaining_time": 0.3119646661
                      },
                      {
                        "learn": [
                          0.3709565607
                        ],
                        "iteration": 99,
                        "passed_time": 0.07721770767,
                        "remaining_time": 0.3088708307
                      },
                      {
                        "learn": [
                          0.3696775163
                        ],
                        "iteration": 100,
                        "passed_time": 0.077404971,
                        "remaining_time": 0.3057879547
                      },
                      {
                        "learn": [
                          0.3685148782
                        ],
                        "iteration": 101,
                        "passed_time": 0.077576918,
                        "remaining_time": 0.3027020918
                      },
                      {
                        "learn": [
                          0.3643148569
                        ],
                        "iteration": 102,
                        "passed_time": 0.07778144136,
                        "remaining_time": 0.2997983711
                      },
                      {
                        "learn": [
                          0.3639985657
                        ],
                        "iteration": 103,
                        "passed_time": 0.07795121966,
                        "remaining_time": 0.2968142595
                      },
                      {
                        "learn": [
                          0.3609825916
                        ],
                        "iteration": 104,
                        "passed_time": 0.07815799672,
                        "remaining_time": 0.29402294
                      },
                      {
                        "learn": [
                          0.3586317574
                        ],
                        "iteration": 105,
                        "passed_time": 0.07833566751,
                        "remaining_time": 0.2911721981
                      },
                      {
                        "learn": [
                          0.3560756186
                        ],
                        "iteration": 106,
                        "passed_time": 0.07853872174,
                        "remaining_time": 0.2884646509
                      },
                      {
                        "learn": [
                          0.3551843659
                        ],
                        "iteration": 107,
                        "passed_time": 0.07871509295,
                        "remaining_time": 0.2857066337
                      },
                      {
                        "learn": [
                          0.3542443893
                        ],
                        "iteration": 108,
                        "passed_time": 0.07890148445,
                        "remaining_time": 0.2830319304
                      },
                      {
                        "learn": [
                          0.352567341
                        ],
                        "iteration": 109,
                        "passed_time": 0.07909795803,
                        "remaining_time": 0.2804382148
                      },
                      {
                        "learn": [
                          0.351011064
                        ],
                        "iteration": 110,
                        "passed_time": 0.07927113916,
                        "remaining_time": 0.2778060643
                      },
                      {
                        "learn": [
                          0.3507690405
                        ],
                        "iteration": 111,
                        "passed_time": 0.07945606743,
                        "remaining_time": 0.2752585193
                      },
                      {
                        "learn": [
                          0.3487730021
                        ],
                        "iteration": 112,
                        "passed_time": 0.07962936765,
                        "remaining_time": 0.2727129671
                      },
                      {
                        "learn": [
                          0.3460007714
                        ],
                        "iteration": 113,
                        "passed_time": 0.07980699618,
                        "remaining_time": 0.2702236888
                      },
                      {
                        "learn": [
                          0.3453286065
                        ],
                        "iteration": 114,
                        "passed_time": 0.07997963002,
                        "remaining_time": 0.2677578918
                      },
                      {
                        "learn": [
                          0.343041242
                        ],
                        "iteration": 115,
                        "passed_time": 0.08018903169,
                        "remaining_time": 0.2654533463
                      },
                      {
                        "learn": [
                          0.3409097855
                        ],
                        "iteration": 116,
                        "passed_time": 0.08037330039,
                        "remaining_time": 0.2631023423
                      },
                      {
                        "learn": [
                          0.3390670577
                        ],
                        "iteration": 117,
                        "passed_time": 0.08054625561,
                        "remaining_time": 0.2607514376
                      },
                      {
                        "learn": [
                          0.3374321179
                        ],
                        "iteration": 118,
                        "passed_time": 0.08074382104,
                        "remaining_time": 0.2585159312
                      },
                      {
                        "learn": [
                          0.3363170621
                        ],
                        "iteration": 119,
                        "passed_time": 0.08091569486,
                        "remaining_time": 0.2562330337
                      },
                      {
                        "learn": [
                          0.3360523144
                        ],
                        "iteration": 120,
                        "passed_time": 0.08109089786,
                        "remaining_time": 0.2539954569
                      },
                      {
                        "learn": [
                          0.334783668
                        ],
                        "iteration": 121,
                        "passed_time": 0.0812646681,
                        "remaining_time": 0.2517872503
                      },
                      {
                        "learn": [
                          0.3341449519
                        ],
                        "iteration": 122,
                        "passed_time": 0.08145446241,
                        "remaining_time": 0.2496612385
                      },
                      {
                        "learn": [
                          0.3316790367
                        ],
                        "iteration": 123,
                        "passed_time": 0.08163059726,
                        "remaining_time": 0.2475250368
                      },
                      {
                        "learn": [
                          0.3306453487
                        ],
                        "iteration": 124,
                        "passed_time": 0.08182000656,
                        "remaining_time": 0.2454600197
                      },
                      {
                        "learn": [
                          0.3302104529
                        ],
                        "iteration": 125,
                        "passed_time": 0.08199546321,
                        "remaining_time": 0.243383359
                      },
                      {
                        "learn": [
                          0.3291855332
                        ],
                        "iteration": 126,
                        "passed_time": 0.08216364465,
                        "remaining_time": 0.2413152713
                      },
                      {
                        "learn": [
                          0.3277376433
                        ],
                        "iteration": 127,
                        "passed_time": 0.08234115635,
                        "remaining_time": 0.2393039857
                      },
                      {
                        "learn": [
                          0.3260624044
                        ],
                        "iteration": 128,
                        "passed_time": 0.08258350848,
                        "remaining_time": 0.2375076096
                      },
                      {
                        "learn": [
                          0.3238285565
                        ],
                        "iteration": 129,
                        "passed_time": 0.08279243059,
                        "remaining_time": 0.2356399947
                      },
                      {
                        "learn": [
                          0.3232021635
                        ],
                        "iteration": 130,
                        "passed_time": 0.0829657749,
                        "remaining_time": 0.2336974881
                      },
                      {
                        "learn": [
                          0.3226475459
                        ],
                        "iteration": 131,
                        "passed_time": 0.08314193702,
                        "remaining_time": 0.2317896426
                      },
                      {
                        "learn": [
                          0.3219134983
                        ],
                        "iteration": 132,
                        "passed_time": 0.08332812305,
                        "remaining_time": 0.2299354974
                      },
                      {
                        "learn": [
                          0.3189496055
                        ],
                        "iteration": 133,
                        "passed_time": 0.08353214048,
                        "remaining_time": 0.2281549509
                      },
                      {
                        "learn": [
                          0.3175113822
                        ],
                        "iteration": 134,
                        "passed_time": 0.08370616255,
                        "remaining_time": 0.2263166617
                      },
                      {
                        "learn": [
                          0.3169440865
                        ],
                        "iteration": 135,
                        "passed_time": 0.08390149246,
                        "remaining_time": 0.2245598769
                      },
                      {
                        "learn": [
                          0.315486335
                        ],
                        "iteration": 136,
                        "passed_time": 0.08409076358,
                        "remaining_time": 0.2228098334
                      },
                      {
                        "learn": [
                          0.3147587301
                        ],
                        "iteration": 137,
                        "passed_time": 0.08429590286,
                        "remaining_time": 0.221124035
                      },
                      {
                        "learn": [
                          0.3121702217
                        ],
                        "iteration": 138,
                        "passed_time": 0.08448193843,
                        "remaining_time": 0.2194099264
                      },
                      {
                        "learn": [
                          0.3119632086
                        ],
                        "iteration": 139,
                        "passed_time": 0.08465043489,
                        "remaining_time": 0.2176725469
                      },
                      {
                        "learn": [
                          0.3111341816
                        ],
                        "iteration": 140,
                        "passed_time": 0.08483862552,
                        "remaining_time": 0.2160075643
                      },
                      {
                        "learn": [
                          0.310882057
                        ],
                        "iteration": 141,
                        "passed_time": 0.08501212848,
                        "remaining_time": 0.2143263521
                      },
                      {
                        "learn": [
                          0.31030851
                        ],
                        "iteration": 142,
                        "passed_time": 0.0851907743,
                        "remaining_time": 0.2126790659
                      },
                      {
                        "learn": [
                          0.3100517161
                        ],
                        "iteration": 143,
                        "passed_time": 0.08536044579,
                        "remaining_time": 0.211029991
                      },
                      {
                        "learn": [
                          0.3080644504
                        ],
                        "iteration": 144,
                        "passed_time": 0.08553796658,
                        "remaining_time": 0.2094205389
                      },
                      {
                        "learn": [
                          0.3062629482
                        ],
                        "iteration": 145,
                        "passed_time": 0.08571143499,
                        "remaining_time": 0.2078208766
                      },
                      {
                        "learn": [
                          0.3054356883
                        ],
                        "iteration": 146,
                        "passed_time": 0.085900362,
                        "remaining_time": 0.2062777401
                      },
                      {
                        "learn": [
                          0.3038556034
                        ],
                        "iteration": 147,
                        "passed_time": 0.08607704868,
                        "remaining_time": 0.2047237915
                      },
                      {
                        "learn": [
                          0.3025879285
                        ],
                        "iteration": 148,
                        "passed_time": 0.08625483358,
                        "remaining_time": 0.2031909167
                      },
                      {
                        "learn": [
                          0.3010991596
                        ],
                        "iteration": 149,
                        "passed_time": 0.08643209845,
                        "remaining_time": 0.2016748964
                      },
                      {
                        "learn": [
                          0.2996816196
                        ],
                        "iteration": 150,
                        "passed_time": 0.08660558641,
                        "remaining_time": 0.2001678785
                      },
                      {
                        "learn": [
                          0.2985990025
                        ],
                        "iteration": 151,
                        "passed_time": 0.08679428705,
                        "remaining_time": 0.1987132361
                      },
                      {
                        "learn": [
                          0.2974944673
                        ],
                        "iteration": 152,
                        "passed_time": 0.08697010098,
                        "remaining_time": 0.1972459153
                      },
                      {
                        "learn": [
                          0.2959934603
                        ],
                        "iteration": 153,
                        "passed_time": 0.08714674948,
                        "remaining_time": 0.1957972423
                      },
                      {
                        "learn": [
                          0.2946512468
                        ],
                        "iteration": 154,
                        "passed_time": 0.08733589468,
                        "remaining_time": 0.1943927978
                      },
                      {
                        "learn": [
                          0.2944761629
                        ],
                        "iteration": 155,
                        "passed_time": 0.08753454424,
                        "remaining_time": 0.1930248924
                      },
                      {
                        "learn": [
                          0.2938650749
                        ],
                        "iteration": 156,
                        "passed_time": 0.08773116783,
                        "remaining_time": 0.1916674558
                      },
                      {
                        "learn": [
                          0.2932542556
                        ],
                        "iteration": 157,
                        "passed_time": 0.08794413005,
                        "remaining_time": 0.190360079
                      },
                      {
                        "learn": [
                          0.2911893652
                        ],
                        "iteration": 158,
                        "passed_time": 0.08818089748,
                        "remaining_time": 0.1891175223
                      },
                      {
                        "learn": [
                          0.2902371679
                        ],
                        "iteration": 159,
                        "passed_time": 0.08846176929,
                        "remaining_time": 0.1879812598
                      },
                      {
                        "learn": [
                          0.2892103702
                        ],
                        "iteration": 160,
                        "passed_time": 0.08870122406,
                        "remaining_time": 0.1867684159
                      },
                      {
                        "learn": [
                          0.2875807071
                        ],
                        "iteration": 161,
                        "passed_time": 0.08892242561,
                        "remaining_time": 0.1855295053
                      },
                      {
                        "learn": [
                          0.285685224
                        ],
                        "iteration": 162,
                        "passed_time": 0.08970082838,
                        "remaining_time": 0.1854550869
                      },
                      {
                        "learn": [
                          0.2842675851
                        ],
                        "iteration": 163,
                        "passed_time": 0.08990130208,
                        "remaining_time": 0.1841880335
                      },
                      {
                        "learn": [
                          0.2838961552
                        ],
                        "iteration": 164,
                        "passed_time": 0.0900918896,
                        "remaining_time": 0.1829138365
                      },
                      {
                        "learn": [
                          0.2834367354
                        ],
                        "iteration": 165,
                        "passed_time": 0.09028911912,
                        "remaining_time": 0.1816660589
                      },
                      {
                        "learn": [
                          0.2825900387
                        ],
                        "iteration": 166,
                        "passed_time": 0.09048244625,
                        "remaining_time": 0.1804230815
                      },
                      {
                        "learn": [
                          0.2812358917
                        ],
                        "iteration": 167,
                        "passed_time": 0.09113328734,
                        "remaining_time": 0.1800967345
                      },
                      {
                        "learn": [
                          0.2803284594
                        ],
                        "iteration": 168,
                        "passed_time": 0.09134220036,
                        "remaining_time": 0.178900996
                      },
                      {
                        "learn": [
                          0.2797254222
                        ],
                        "iteration": 169,
                        "passed_time": 0.09154058673,
                        "remaining_time": 0.1776964331
                      },
                      {
                        "learn": [
                          0.2778149716
                        ],
                        "iteration": 170,
                        "passed_time": 0.09172473634,
                        "remaining_time": 0.1764762471
                      },
                      {
                        "learn": [
                          0.2760083521
                        ],
                        "iteration": 171,
                        "passed_time": 0.09194473558,
                        "remaining_time": 0.1753364725
                      },
                      {
                        "learn": [
                          0.2754363879
                        ],
                        "iteration": 172,
                        "passed_time": 0.09215522091,
                        "remaining_time": 0.1741893482
                      },
                      {
                        "learn": [
                          0.2740163852
                        ],
                        "iteration": 173,
                        "passed_time": 0.0923744674,
                        "remaining_time": 0.1730694044
                      },
                      {
                        "learn": [
                          0.2731530544
                        ],
                        "iteration": 174,
                        "passed_time": 0.09256458263,
                        "remaining_time": 0.1719056535
                      },
                      {
                        "learn": [
                          0.272323917
                        ],
                        "iteration": 175,
                        "passed_time": 0.09281747822,
                        "remaining_time": 0.1708685395
                      },
                      {
                        "learn": [
                          0.2708000701
                        ],
                        "iteration": 176,
                        "passed_time": 0.09303609151,
                        "remaining_time": 0.1697777263
                      },
                      {
                        "learn": [
                          0.2697487703
                        ],
                        "iteration": 177,
                        "passed_time": 0.09325469207,
                        "remaining_time": 0.1686966902
                      },
                      {
                        "learn": [
                          0.2692314145
                        ],
                        "iteration": 178,
                        "passed_time": 0.09346939889,
                        "remaining_time": 0.1676183075
                      },
                      {
                        "learn": [
                          0.2677619879
                        ],
                        "iteration": 179,
                        "passed_time": 0.09370760817,
                        "remaining_time": 0.1665913034
                      },
                      {
                        "learn": [
                          0.2673718587
                        ],
                        "iteration": 180,
                        "passed_time": 0.09392476051,
                        "remaining_time": 0.1655359039
                      },
                      {
                        "learn": [
                          0.2656743196
                        ],
                        "iteration": 181,
                        "passed_time": 0.09415308406,
                        "remaining_time": 0.1645092348
                      },
                      {
                        "learn": [
                          0.2652919494
                        ],
                        "iteration": 182,
                        "passed_time": 0.09436837317,
                        "remaining_time": 0.163468712
                      },
                      {
                        "learn": [
                          0.2649541855
                        ],
                        "iteration": 183,
                        "passed_time": 0.0945895038,
                        "remaining_time": 0.1624471913
                      },
                      {
                        "learn": [
                          0.2634110864
                        ],
                        "iteration": 184,
                        "passed_time": 0.09500186332,
                        "remaining_time": 0.1617599294
                      },
                      {
                        "learn": [
                          0.2622759924
                        ],
                        "iteration": 185,
                        "passed_time": 0.09524954514,
                        "remaining_time": 0.1607976192
                      },
                      {
                        "learn": [
                          0.2613425368
                        ],
                        "iteration": 186,
                        "passed_time": 0.09546625292,
                        "remaining_time": 0.1597911078
                      },
                      {
                        "learn": [
                          0.261218309
                        ],
                        "iteration": 187,
                        "passed_time": 0.09564227412,
                        "remaining_time": 0.1587254762
                      },
                      {
                        "learn": [
                          0.260532251
                        ],
                        "iteration": 188,
                        "passed_time": 0.0958166671,
                        "remaining_time": 0.1576665792
                      },
                      {
                        "learn": [
                          0.2582368172
                        ],
                        "iteration": 189,
                        "passed_time": 0.09598880229,
                        "remaining_time": 0.156613309
                      },
                      {
                        "learn": [
                          0.2568202303
                        ],
                        "iteration": 190,
                        "passed_time": 0.09618168033,
                        "remaining_time": 0.1556028231
                      },
                      {
                        "learn": [
                          0.2557980408
                        ],
                        "iteration": 191,
                        "passed_time": 0.09635961204,
                        "remaining_time": 0.1545768777
                      },
                      {
                        "learn": [
                          0.2551164369
                        ],
                        "iteration": 192,
                        "passed_time": 0.09653689874,
                        "remaining_time": 0.1535586938
                      },
                      {
                        "learn": [
                          0.2550026039
                        ],
                        "iteration": 193,
                        "passed_time": 0.09670824891,
                        "remaining_time": 0.1525398153
                      },
                      {
                        "learn": [
                          0.2542302745
                        ],
                        "iteration": 194,
                        "passed_time": 0.09689233215,
                        "remaining_time": 0.1515495452
                      },
                      {
                        "learn": [
                          0.2540700418
                        ],
                        "iteration": 195,
                        "passed_time": 0.09706641512,
                        "remaining_time": 0.1505519908
                      },
                      {
                        "learn": [
                          0.2535939932
                        ],
                        "iteration": 196,
                        "passed_time": 0.0972387335,
                        "remaining_time": 0.1495600825
                      },
                      {
                        "learn": [
                          0.2531929056
                        ],
                        "iteration": 197,
                        "passed_time": 0.09741809753,
                        "remaining_time": 0.1485871993
                      },
                      {
                        "learn": [
                          0.2523684943
                        ],
                        "iteration": 198,
                        "passed_time": 0.09758722309,
                        "remaining_time": 0.1476068048
                      },
                      {
                        "learn": [
                          0.2522591423
                        ],
                        "iteration": 199,
                        "passed_time": 0.09777205181,
                        "remaining_time": 0.1466580777
                      },
                      {
                        "learn": [
                          0.2520045438
                        ],
                        "iteration": 200,
                        "passed_time": 0.09794181194,
                        "remaining_time": 0.1456945362
                      },
                      {
                        "learn": [
                          0.2514874735
                        ],
                        "iteration": 201,
                        "passed_time": 0.0981163631,
                        "remaining_time": 0.1447459218
                      },
                      {
                        "learn": [
                          0.2511669979
                        ],
                        "iteration": 202,
                        "passed_time": 0.09828962605,
                        "remaining_time": 0.143803049
                      },
                      {
                        "learn": [
                          0.2507593834
                        ],
                        "iteration": 203,
                        "passed_time": 0.09846123123,
                        "remaining_time": 0.1428653159
                      },
                      {
                        "learn": [
                          0.2506605071
                        ],
                        "iteration": 204,
                        "passed_time": 0.0986573489,
                        "remaining_time": 0.1419703313
                      },
                      {
                        "learn": [
                          0.2494687509
                        ],
                        "iteration": 205,
                        "passed_time": 0.09882822496,
                        "remaining_time": 0.1410461075
                      },
                      {
                        "learn": [
                          0.2483996197
                        ],
                        "iteration": 206,
                        "passed_time": 0.09901941204,
                        "remaining_time": 0.1401579117
                      },
                      {
                        "learn": [
                          0.2482468466
                        ],
                        "iteration": 207,
                        "passed_time": 0.09918919444,
                        "remaining_time": 0.1392463691
                      },
                      {
                        "learn": [
                          0.2479792773
                        ],
                        "iteration": 208,
                        "passed_time": 0.09937165809,
                        "remaining_time": 0.1383595814
                      },
                      {
                        "learn": [
                          0.2462531338
                        ],
                        "iteration": 209,
                        "passed_time": 0.09954735111,
                        "remaining_time": 0.1374701515
                      },
                      {
                        "learn": [
                          0.2458668546
                        ],
                        "iteration": 210,
                        "passed_time": 0.09973310258,
                        "remaining_time": 0.1366012637
                      },
                      {
                        "learn": [
                          0.244336695
                        ],
                        "iteration": 211,
                        "passed_time": 0.09993709729,
                        "remaining_time": 0.1357636039
                      },
                      {
                        "learn": [
                          0.2440592137
                        ],
                        "iteration": 212,
                        "passed_time": 0.1001111925,
                        "remaining_time": 0.1348916068
                      },
                      {
                        "learn": [
                          0.2430481937
                        ],
                        "iteration": 213,
                        "passed_time": 0.1002999318,
                        "remaining_time": 0.1340457033
                      },
                      {
                        "learn": [
                          0.2414145867
                        ],
                        "iteration": 214,
                        "passed_time": 0.1004706874,
                        "remaining_time": 0.133182074
                      },
                      {
                        "learn": [
                          0.2402678103
                        ],
                        "iteration": 215,
                        "passed_time": 0.1006484973,
                        "remaining_time": 0.1323341354
                      },
                      {
                        "learn": [
                          0.2394392769
                        ],
                        "iteration": 216,
                        "passed_time": 0.1008182693,
                        "remaining_time": 0.1314818903
                      },
                      {
                        "learn": [
                          0.2385830938
                        ],
                        "iteration": 217,
                        "passed_time": 0.1010082595,
                        "remaining_time": 0.1306620604
                      },
                      {
                        "learn": [
                          0.2382154605
                        ],
                        "iteration": 218,
                        "passed_time": 0.1011830025,
                        "remaining_time": 0.1298284187
                      },
                      {
                        "learn": [
                          0.2373284766
                        ],
                        "iteration": 219,
                        "passed_time": 0.1013772855,
                        "remaining_time": 0.1290256362
                      },
                      {
                        "learn": [
                          0.2363855706
                        ],
                        "iteration": 220,
                        "passed_time": 0.1015618052,
                        "remaining_time": 0.1282160346
                      },
                      {
                        "learn": [
                          0.2360961868
                        ],
                        "iteration": 221,
                        "passed_time": 0.1017363232,
                        "remaining_time": 0.1273995398
                      },
                      {
                        "learn": [
                          0.2355420034
                        ],
                        "iteration": 222,
                        "passed_time": 0.1019226833,
                        "remaining_time": 0.1266035124
                      },
                      {
                        "learn": [
                          0.235303366
                        ],
                        "iteration": 223,
                        "passed_time": 0.1020936566,
                        "remaining_time": 0.1257939698
                      },
                      {
                        "learn": [
                          0.234967349
                        ],
                        "iteration": 224,
                        "passed_time": 0.1022617022,
                        "remaining_time": 0.1249865249
                      },
                      {
                        "learn": [
                          0.234757766
                        ],
                        "iteration": 225,
                        "passed_time": 0.1024353392,
                        "remaining_time": 0.1241915174
                      },
                      {
                        "learn": [
                          0.2344295835
                        ],
                        "iteration": 226,
                        "passed_time": 0.1026047807,
                        "remaining_time": 0.1233969389
                      },
                      {
                        "learn": [
                          0.233385475
                        ],
                        "iteration": 227,
                        "passed_time": 0.1027810664,
                        "remaining_time": 0.1226160091
                      },
                      {
                        "learn": [
                          0.233160405
                        ],
                        "iteration": 228,
                        "passed_time": 0.1029573272,
                        "remaining_time": 0.1218403304
                      },
                      {
                        "learn": [
                          0.2323592837
                        ],
                        "iteration": 229,
                        "passed_time": 0.1031327702,
                        "remaining_time": 0.1210689042
                      },
                      {
                        "learn": [
                          0.2313702672
                        ],
                        "iteration": 230,
                        "passed_time": 0.1033016876,
                        "remaining_time": 0.1202950388
                      },
                      {
                        "learn": [
                          0.2311448272
                        ],
                        "iteration": 231,
                        "passed_time": 0.1034890068,
                        "remaining_time": 0.1195476458
                      },
                      {
                        "learn": [
                          0.230317294
                        ],
                        "iteration": 232,
                        "passed_time": 0.1036633207,
                        "remaining_time": 0.1187901572
                      },
                      {
                        "learn": [
                          0.2299165763
                        ],
                        "iteration": 233,
                        "passed_time": 0.103832489,
                        "remaining_time": 0.1180318037
                      },
                      {
                        "learn": [
                          0.2285044099
                        ],
                        "iteration": 234,
                        "passed_time": 0.1040113157,
                        "remaining_time": 0.1172893561
                      },
                      {
                        "learn": [
                          0.2277747429
                        ],
                        "iteration": 235,
                        "passed_time": 0.1041813254,
                        "remaining_time": 0.1165418217
                      },
                      {
                        "learn": [
                          0.22718871
                        ],
                        "iteration": 236,
                        "passed_time": 0.1043657969,
                        "remaining_time": 0.1158152092
                      },
                      {
                        "learn": [
                          0.2271002108
                        ],
                        "iteration": 237,
                        "passed_time": 0.1045538634,
                        "remaining_time": 0.1150971101
                      },
                      {
                        "learn": [
                          0.227014084
                        ],
                        "iteration": 238,
                        "passed_time": 0.1047224271,
                        "remaining_time": 0.1143621485
                      },
                      {
                        "learn": [
                          0.2269053285
                        ],
                        "iteration": 239,
                        "passed_time": 0.1048899036,
                        "remaining_time": 0.1136307288
                      },
                      {
                        "learn": [
                          0.2261840196
                        ],
                        "iteration": 240,
                        "passed_time": 0.1050600646,
                        "remaining_time": 0.1129068744
                      },
                      {
                        "learn": [
                          0.2260992746
                        ],
                        "iteration": 241,
                        "passed_time": 0.1052568441,
                        "remaining_time": 0.1122159743
                      },
                      {
                        "learn": [
                          0.22594554
                        ],
                        "iteration": 242,
                        "passed_time": 0.1054266538,
                        "remaining_time": 0.1115006174
                      },
                      {
                        "learn": [
                          0.2250492626
                        ],
                        "iteration": 243,
                        "passed_time": 0.1056038114,
                        "remaining_time": 0.1107974414
                      },
                      {
                        "learn": [
                          0.2248396815
                        ],
                        "iteration": 244,
                        "passed_time": 0.1057891937,
                        "remaining_time": 0.11010712
                      },
                      {
                        "learn": [
                          0.2236565648
                        ],
                        "iteration": 245,
                        "passed_time": 0.1059687337,
                        "remaining_time": 0.1094148714
                      },
                      {
                        "learn": [
                          0.2234784579
                        ],
                        "iteration": 246,
                        "passed_time": 0.1061639218,
                        "remaining_time": 0.1087428025
                      },
                      {
                        "learn": [
                          0.2231394249
                        ],
                        "iteration": 247,
                        "passed_time": 0.1063373438,
                        "remaining_time": 0.1080524623
                      },
                      {
                        "learn": [
                          0.2211214021
                        ],
                        "iteration": 248,
                        "passed_time": 0.1065312078,
                        "remaining_time": 0.1073868802
                      },
                      {
                        "learn": [
                          0.2201750926
                        ],
                        "iteration": 249,
                        "passed_time": 0.1067184334,
                        "remaining_time": 0.1067184334
                      },
                      {
                        "learn": [
                          0.2194250899
                        ],
                        "iteration": 250,
                        "passed_time": 0.1069107223,
                        "remaining_time": 0.1060588441
                      },
                      {
                        "learn": [
                          0.2186562083
                        ],
                        "iteration": 251,
                        "passed_time": 0.1070872854,
                        "remaining_time": 0.1053874872
                      },
                      {
                        "learn": [
                          0.2185371404
                        ],
                        "iteration": 252,
                        "passed_time": 0.1072654862,
                        "remaining_time": 0.1047216407
                      },
                      {
                        "learn": [
                          0.2178309784
                        ],
                        "iteration": 253,
                        "passed_time": 0.1074344645,
                        "remaining_time": 0.1040507018
                      },
                      {
                        "learn": [
                          0.2173176702
                        ],
                        "iteration": 254,
                        "passed_time": 0.1076189782,
                        "remaining_time": 0.1033986261
                      },
                      {
                        "learn": [
                          0.2171580992
                        ],
                        "iteration": 255,
                        "passed_time": 0.1077896115,
                        "remaining_time": 0.1027369735
                      },
                      {
                        "learn": [
                          0.2157509185
                        ],
                        "iteration": 256,
                        "passed_time": 0.1080051284,
                        "remaining_time": 0.1021215805
                      },
                      {
                        "learn": [
                          0.2149939169
                        ],
                        "iteration": 257,
                        "passed_time": 0.1082324514,
                        "remaining_time": 0.1015203614
                      },
                      {
                        "learn": [
                          0.2149221704
                        ],
                        "iteration": 258,
                        "passed_time": 0.1084200516,
                        "remaining_time": 0.1008850673
                      },
                      {
                        "learn": [
                          0.2146000085
                        ],
                        "iteration": 259,
                        "passed_time": 0.1085967564,
                        "remaining_time": 0.1002431598
                      },
                      {
                        "learn": [
                          0.21432715
                        ],
                        "iteration": 260,
                        "passed_time": 0.108784063,
                        "remaining_time": 0.09961452509
                      },
                      {
                        "learn": [
                          0.2141978124
                        ],
                        "iteration": 261,
                        "passed_time": 0.1089911091,
                        "remaining_time": 0.09900719072
                      },
                      {
                        "learn": [
                          0.213484497
                        ],
                        "iteration": 262,
                        "passed_time": 0.1091632916,
                        "remaining_time": 0.09837148329
                      },
                      {
                        "learn": [
                          0.2128174253
                        ],
                        "iteration": 263,
                        "passed_time": 0.1093536709,
                        "remaining_time": 0.0977555543
                      },
                      {
                        "learn": [
                          0.2115332331
                        ],
                        "iteration": 264,
                        "passed_time": 0.1095267689,
                        "remaining_time": 0.097127512
                      },
                      {
                        "learn": [
                          0.2111968232
                        ],
                        "iteration": 265,
                        "passed_time": 0.1097041256,
                        "remaining_time": 0.09650663676
                      },
                      {
                        "learn": [
                          0.2109522719
                        ],
                        "iteration": 266,
                        "passed_time": 0.1098755289,
                        "remaining_time": 0.09588388852
                      },
                      {
                        "learn": [
                          0.2104053716
                        ],
                        "iteration": 267,
                        "passed_time": 0.1100459404,
                        "remaining_time": 0.09526364991
                      },
                      {
                        "learn": [
                          0.2101300274
                        ],
                        "iteration": 268,
                        "passed_time": 0.1102373539,
                        "remaining_time": 0.09466479086
                      },
                      {
                        "learn": [
                          0.2096757988
                        ],
                        "iteration": 269,
                        "passed_time": 0.1104085213,
                        "remaining_time": 0.09405170333
                      },
                      {
                        "learn": [
                          0.2091139303
                        ],
                        "iteration": 270,
                        "passed_time": 0.1105842616,
                        "remaining_time": 0.09344574134
                      },
                      {
                        "learn": [
                          0.2083762912
                        ],
                        "iteration": 271,
                        "passed_time": 0.1107708899,
                        "remaining_time": 0.09285206948
                      },
                      {
                        "learn": [
                          0.208157688
                        ],
                        "iteration": 272,
                        "passed_time": 0.1109720745,
                        "remaining_time": 0.09227348322
                      },
                      {
                        "learn": [
                          0.2074503699
                        ],
                        "iteration": 273,
                        "passed_time": 0.1111448625,
                        "remaining_time": 0.09167422962
                      },
                      {
                        "learn": [
                          0.2072931613
                        ],
                        "iteration": 274,
                        "passed_time": 0.1113169377,
                        "remaining_time": 0.09107749444
                      },
                      {
                        "learn": [
                          0.2062602817
                        ],
                        "iteration": 275,
                        "passed_time": 0.1115162463,
                        "remaining_time": 0.09050593904
                      },
                      {
                        "learn": [
                          0.2056186047
                        ],
                        "iteration": 276,
                        "passed_time": 0.1117060084,
                        "remaining_time": 0.08992938579
                      },
                      {
                        "learn": [
                          0.2047113886
                        ],
                        "iteration": 277,
                        "passed_time": 0.1118803354,
                        "remaining_time": 0.08934328944
                      },
                      {
                        "learn": [
                          0.2040734136
                        ],
                        "iteration": 278,
                        "passed_time": 0.112050076,
                        "remaining_time": 0.08875651182
                      },
                      {
                        "learn": [
                          0.2035317591
                        ],
                        "iteration": 279,
                        "passed_time": 0.1122409863,
                        "remaining_time": 0.08818934635
                      },
                      {
                        "learn": [
                          0.2034521617
                        ],
                        "iteration": 280,
                        "passed_time": 0.1124141356,
                        "remaining_time": 0.08761101669
                      },
                      {
                        "learn": [
                          0.2025538389
                        ],
                        "iteration": 281,
                        "passed_time": 0.1126045949,
                        "remaining_time": 0.08704894215
                      },
                      {
                        "learn": [
                          0.2018550307
                        ],
                        "iteration": 282,
                        "passed_time": 0.1127736841,
                        "remaining_time": 0.08647310759
                      },
                      {
                        "learn": [
                          0.2013190624
                        ],
                        "iteration": 283,
                        "passed_time": 0.1129497521,
                        "remaining_time": 0.08590544528
                      },
                      {
                        "learn": [
                          0.2008698739
                        ],
                        "iteration": 284,
                        "passed_time": 0.1131214928,
                        "remaining_time": 0.08533726646
                      },
                      {
                        "learn": [
                          0.2007932723
                        ],
                        "iteration": 285,
                        "passed_time": 0.1132924511,
                        "remaining_time": 0.0847712746
                      },
                      {
                        "learn": [
                          0.2003217476
                        ],
                        "iteration": 286,
                        "passed_time": 0.1134668173,
                        "remaining_time": 0.08421056472
                      },
                      {
                        "learn": [
                          0.200276777
                        ],
                        "iteration": 287,
                        "passed_time": 0.1136520255,
                        "remaining_time": 0.0836605188
                      },
                      {
                        "learn": [
                          0.20020467
                        ],
                        "iteration": 288,
                        "passed_time": 0.1138456736,
                        "remaining_time": 0.08311915961
                      },
                      {
                        "learn": [
                          0.1997057013
                        ],
                        "iteration": 289,
                        "passed_time": 0.1140167451,
                        "remaining_time": 0.08256384991
                      },
                      {
                        "learn": [
                          0.1991585816
                        ],
                        "iteration": 290,
                        "passed_time": 0.114270153,
                        "remaining_time": 0.08207031607
                      },
                      {
                        "learn": [
                          0.1980996951
                        ],
                        "iteration": 291,
                        "passed_time": 0.1144514925,
                        "remaining_time": 0.08152709057
                      },
                      {
                        "learn": [
                          0.1974125358
                        ],
                        "iteration": 292,
                        "passed_time": 0.1146330303,
                        "remaining_time": 0.0809864753
                      },
                      {
                        "learn": [
                          0.1968919615
                        ],
                        "iteration": 293,
                        "passed_time": 0.114808456,
                        "remaining_time": 0.08044402018
                      },
                      {
                        "learn": [
                          0.1964325773
                        ],
                        "iteration": 294,
                        "passed_time": 0.1149958061,
                        "remaining_time": 0.07991233986
                      },
                      {
                        "learn": [
                          0.1961598941
                        ],
                        "iteration": 295,
                        "passed_time": 0.115171386,
                        "remaining_time": 0.07937487412
                      },
                      {
                        "learn": [
                          0.1961055664
                        ],
                        "iteration": 296,
                        "passed_time": 0.1153392665,
                        "remaining_time": 0.07883458283
                      },
                      {
                        "learn": [
                          0.1954383033
                        ],
                        "iteration": 297,
                        "passed_time": 0.1155132486,
                        "remaining_time": 0.07830092688
                      },
                      {
                        "learn": [
                          0.1952361203
                        ],
                        "iteration": 298,
                        "passed_time": 0.1156827287,
                        "remaining_time": 0.07776665038
                      },
                      {
                        "learn": [
                          0.1948888165
                        ],
                        "iteration": 299,
                        "passed_time": 0.1158686688,
                        "remaining_time": 0.0772457792
                      },
                      {
                        "learn": [
                          0.1946398687
                        ],
                        "iteration": 300,
                        "passed_time": 0.116042699,
                        "remaining_time": 0.0767192595
                      },
                      {
                        "learn": [
                          0.1945113201
                        ],
                        "iteration": 301,
                        "passed_time": 0.116215657,
                        "remaining_time": 0.07619437113
                      },
                      {
                        "learn": [
                          0.1938734216
                        ],
                        "iteration": 302,
                        "passed_time": 0.1163937301,
                        "remaining_time": 0.07567513142
                      },
                      {
                        "learn": [
                          0.1931233119
                        ],
                        "iteration": 303,
                        "passed_time": 0.116585449,
                        "remaining_time": 0.0751669342
                      },
                      {
                        "learn": [
                          0.1924386715
                        ],
                        "iteration": 304,
                        "passed_time": 0.1167786993,
                        "remaining_time": 0.07466179135
                      },
                      {
                        "learn": [
                          0.1922804041
                        ],
                        "iteration": 305,
                        "passed_time": 0.1169483444,
                        "remaining_time": 0.07414372162
                      },
                      {
                        "learn": [
                          0.1914467034
                        ],
                        "iteration": 306,
                        "passed_time": 0.1171382342,
                        "remaining_time": 0.07364064885
                      },
                      {
                        "learn": [
                          0.1913415546
                        ],
                        "iteration": 307,
                        "passed_time": 0.1173098912,
                        "remaining_time": 0.07312824385
                      },
                      {
                        "learn": [
                          0.1910431005
                        ],
                        "iteration": 308,
                        "passed_time": 0.1174971727,
                        "remaining_time": 0.07262770221
                      },
                      {
                        "learn": [
                          0.1903267689
                        ],
                        "iteration": 309,
                        "passed_time": 0.1176714411,
                        "remaining_time": 0.07212120585
                      },
                      {
                        "learn": [
                          0.1900432299
                        ],
                        "iteration": 310,
                        "passed_time": 0.1178407785,
                        "remaining_time": 0.07161384932
                      },
                      {
                        "learn": [
                          0.1899702004
                        ],
                        "iteration": 311,
                        "passed_time": 0.1180085149,
                        "remaining_time": 0.0711076949
                      },
                      {
                        "learn": [
                          0.1899215345
                        ],
                        "iteration": 312,
                        "passed_time": 0.1181767414,
                        "remaining_time": 0.07060399565
                      },
                      {
                        "learn": [
                          0.1892817552
                        ],
                        "iteration": 313,
                        "passed_time": 0.1183667757,
                        "remaining_time": 0.07011535121
                      },
                      {
                        "learn": [
                          0.1883664314
                        ],
                        "iteration": 314,
                        "passed_time": 0.1185550413,
                        "remaining_time": 0.06962756396
                      },
                      {
                        "learn": [
                          0.1877498135
                        ],
                        "iteration": 315,
                        "passed_time": 0.1187354349,
                        "remaining_time": 0.0691370887
                      },
                      {
                        "learn": [
                          0.186795598
                        ],
                        "iteration": 316,
                        "passed_time": 0.118909832,
                        "remaining_time": 0.06864510807
                      },
                      {
                        "learn": [
                          0.1859783144
                        ],
                        "iteration": 317,
                        "passed_time": 0.1191077225,
                        "remaining_time": 0.06816857071
                      },
                      {
                        "learn": [
                          0.1853456064
                        ],
                        "iteration": 318,
                        "passed_time": 0.1192821663,
                        "remaining_time": 0.06768047683
                      },
                      {
                        "learn": [
                          0.1847043654
                        ],
                        "iteration": 319,
                        "passed_time": 0.1194526179,
                        "remaining_time": 0.06719209754
                      },
                      {
                        "learn": [
                          0.1841217094
                        ],
                        "iteration": 320,
                        "passed_time": 0.1196310696,
                        "remaining_time": 0.0667101603
                      },
                      {
                        "learn": [
                          0.1836845172
                        ],
                        "iteration": 321,
                        "passed_time": 0.1198089277,
                        "remaining_time": 0.06622977988
                      },
                      {
                        "learn": [
                          0.183464466
                        ],
                        "iteration": 322,
                        "passed_time": 0.1200006747,
                        "remaining_time": 0.06575888369
                      },
                      {
                        "learn": [
                          0.1829952972
                        ],
                        "iteration": 323,
                        "passed_time": 0.1201706662,
                        "remaining_time": 0.06527789277
                      },
                      {
                        "learn": [
                          0.1826685488
                        ],
                        "iteration": 324,
                        "passed_time": 0.1203411546,
                        "remaining_time": 0.06479908323
                      },
                      {
                        "learn": [
                          0.1819078536
                        ],
                        "iteration": 325,
                        "passed_time": 0.1205137257,
                        "remaining_time": 0.0643232769
                      },
                      {
                        "learn": [
                          0.1818248169
                        ],
                        "iteration": 326,
                        "passed_time": 0.1206820053,
                        "remaining_time": 0.0638470548
                      },
                      {
                        "learn": [
                          0.181162905
                        ],
                        "iteration": 327,
                        "passed_time": 0.1208655058,
                        "remaining_time": 0.06338069207
                      },
                      {
                        "learn": [
                          0.181116501
                        ],
                        "iteration": 328,
                        "passed_time": 0.1216505411,
                        "remaining_time": 0.06322870067
                      },
                      {
                        "learn": [
                          0.180304748
                        ],
                        "iteration": 329,
                        "passed_time": 0.1218812688,
                        "remaining_time": 0.06278732027
                      },
                      {
                        "learn": [
                          0.1797952117
                        ],
                        "iteration": 330,
                        "passed_time": 0.122104774,
                        "remaining_time": 0.06234352509
                      },
                      {
                        "learn": [
                          0.1792376296
                        ],
                        "iteration": 331,
                        "passed_time": 0.1222587064,
                        "remaining_time": 0.06186585144
                      },
                      {
                        "learn": [
                          0.1789834767
                        ],
                        "iteration": 332,
                        "passed_time": 0.1223996162,
                        "remaining_time": 0.06138359131
                      },
                      {
                        "learn": [
                          0.178260618
                        ],
                        "iteration": 333,
                        "passed_time": 0.1226215919,
                        "remaining_time": 0.06094366541
                      },
                      {
                        "learn": [
                          0.1778800798
                        ],
                        "iteration": 334,
                        "passed_time": 0.1227961671,
                        "remaining_time": 0.06048169425
                      },
                      {
                        "learn": [
                          0.177385183
                        ],
                        "iteration": 335,
                        "passed_time": 0.1229784967,
                        "remaining_time": 0.06002521862
                      },
                      {
                        "learn": [
                          0.1768033045
                        ],
                        "iteration": 336,
                        "passed_time": 0.1231527137,
                        "remaining_time": 0.05956644611
                      },
                      {
                        "learn": [
                          0.1767289494
                        ],
                        "iteration": 337,
                        "passed_time": 0.1233393452,
                        "remaining_time": 0.05911530748
                      },
                      {
                        "learn": [
                          0.1760552136
                        ],
                        "iteration": 338,
                        "passed_time": 0.1235127264,
                        "remaining_time": 0.05865943642
                      },
                      {
                        "learn": [
                          0.176013219
                        ],
                        "iteration": 339,
                        "passed_time": 0.1237243631,
                        "remaining_time": 0.0582232297
                      },
                      {
                        "learn": [
                          0.1759009345
                        ],
                        "iteration": 340,
                        "passed_time": 0.1239044081,
                        "remaining_time": 0.05777360962
                      },
                      {
                        "learn": [
                          0.1756308072
                        ],
                        "iteration": 341,
                        "passed_time": 0.124098908,
                        "remaining_time": 0.05733224403
                      },
                      {
                        "learn": [
                          0.175189993
                        ],
                        "iteration": 342,
                        "passed_time": 0.1242981693,
                        "remaining_time": 0.05689449734
                      },
                      {
                        "learn": [
                          0.1750479921
                        ],
                        "iteration": 343,
                        "passed_time": 0.1244710132,
                        "remaining_time": 0.05644615715
                      },
                      {
                        "learn": [
                          0.1744431841
                        ],
                        "iteration": 344,
                        "passed_time": 0.1246608784,
                        "remaining_time": 0.05600706132
                      },
                      {
                        "learn": [
                          0.1743305818
                        ],
                        "iteration": 345,
                        "passed_time": 0.1248304235,
                        "remaining_time": 0.05556036192
                      },
                      {
                        "learn": [
                          0.1737893108
                        ],
                        "iteration": 346,
                        "passed_time": 0.1250240325,
                        "remaining_time": 0.05512587024
                      },
                      {
                        "learn": [
                          0.1730674589
                        ],
                        "iteration": 347,
                        "passed_time": 0.1252122695,
                        "remaining_time": 0.05469041656
                      },
                      {
                        "learn": [
                          0.1726654909
                        ],
                        "iteration": 348,
                        "passed_time": 0.1253943727,
                        "remaining_time": 0.05425372572
                      },
                      {
                        "learn": [
                          0.1726337379
                        ],
                        "iteration": 349,
                        "passed_time": 0.1255632392,
                        "remaining_time": 0.05381281678
                      },
                      {
                        "learn": [
                          0.1724324523
                        ],
                        "iteration": 350,
                        "passed_time": 0.1257486724,
                        "remaining_time": 0.05338049058
                      },
                      {
                        "learn": [
                          0.1718668984
                        ],
                        "iteration": 351,
                        "passed_time": 0.1259245927,
                        "remaining_time": 0.0529455674
                      },
                      {
                        "learn": [
                          0.1713405714
                        ],
                        "iteration": 352,
                        "passed_time": 0.1260947761,
                        "remaining_time": 0.05250972261
                      },
                      {
                        "learn": [
                          0.1710161075
                        ],
                        "iteration": 353,
                        "passed_time": 0.1262694113,
                        "remaining_time": 0.05207721483
                      },
                      {
                        "learn": [
                          0.1707160686
                        ],
                        "iteration": 354,
                        "passed_time": 0.1264384787,
                        "remaining_time": 0.05164388566
                      },
                      {
                        "learn": [
                          0.1706370797
                        ],
                        "iteration": 355,
                        "passed_time": 0.1266197723,
                        "remaining_time": 0.05121698655
                      },
                      {
                        "learn": [
                          0.1706025784
                        ],
                        "iteration": 356,
                        "passed_time": 0.1267966822,
                        "remaining_time": 0.05078970743
                      },
                      {
                        "learn": [
                          0.1705537922
                        ],
                        "iteration": 357,
                        "passed_time": 0.1269650905,
                        "remaining_time": 0.05036045487
                      },
                      {
                        "learn": [
                          0.1705210065
                        ],
                        "iteration": 358,
                        "passed_time": 0.1271443963,
                        "remaining_time": 0.04993693559
                      },
                      {
                        "learn": [
                          0.1701737348
                        ],
                        "iteration": 359,
                        "passed_time": 0.1273318224,
                        "remaining_time": 0.04951793092
                      },
                      {
                        "learn": [
                          0.1701275169
                        ],
                        "iteration": 360,
                        "passed_time": 0.1275210848,
                        "remaining_time": 0.04910091632
                      },
                      {
                        "learn": [
                          0.1696221711
                        ],
                        "iteration": 361,
                        "passed_time": 0.1276974701,
                        "remaining_time": 0.04868025105
                      },
                      {
                        "learn": [
                          0.1690889949
                        ],
                        "iteration": 362,
                        "passed_time": 0.1278789747,
                        "remaining_time": 0.04826286372
                      },
                      {
                        "learn": [
                          0.1689976566
                        ],
                        "iteration": 363,
                        "passed_time": 0.1280506708,
                        "remaining_time": 0.04784310776
                      },
                      {
                        "learn": [
                          0.1689667362
                        ],
                        "iteration": 364,
                        "passed_time": 0.1282312494,
                        "remaining_time": 0.04742799635
                      },
                      {
                        "learn": [
                          0.1689212607
                        ],
                        "iteration": 365,
                        "passed_time": 0.1284262161,
                        "remaining_time": 0.04701943431
                      },
                      {
                        "learn": [
                          0.1685032702
                        ],
                        "iteration": 366,
                        "passed_time": 0.1286260498,
                        "remaining_time": 0.04661380006
                      },
                      {
                        "learn": [
                          0.1682121665
                        ],
                        "iteration": 367,
                        "passed_time": 0.1288189869,
                        "remaining_time": 0.04620681052
                      },
                      {
                        "learn": [
                          0.1679620663
                        ],
                        "iteration": 368,
                        "passed_time": 0.1289940258,
                        "remaining_time": 0.04579462705
                      },
                      {
                        "learn": [
                          0.1675208511
                        ],
                        "iteration": 369,
                        "passed_time": 0.1291833269,
                        "remaining_time": 0.04538873649
                      },
                      {
                        "learn": [
                          0.1670320769
                        ],
                        "iteration": 370,
                        "passed_time": 0.1293803764,
                        "remaining_time": 0.04498670771
                      },
                      {
                        "learn": [
                          0.1670039472
                        ],
                        "iteration": 371,
                        "passed_time": 0.1295667448,
                        "remaining_time": 0.04458210572
                      },
                      {
                        "learn": [
                          0.1663211788
                        ],
                        "iteration": 372,
                        "passed_time": 0.1297453324,
                        "remaining_time": 0.0441760247
                      },
                      {
                        "learn": [
                          0.1662615152
                        ],
                        "iteration": 373,
                        "passed_time": 0.1299399691,
                        "remaining_time": 0.04377656714
                      },
                      {
                        "learn": [
                          0.1657598877
                        ],
                        "iteration": 374,
                        "passed_time": 0.1301118293,
                        "remaining_time": 0.04337060977
                      },
                      {
                        "learn": [
                          0.1651054525
                        ],
                        "iteration": 375,
                        "passed_time": 0.1303115407,
                        "remaining_time": 0.04297508257
                      },
                      {
                        "learn": [
                          0.1646864697
                        ],
                        "iteration": 376,
                        "passed_time": 0.1304838218,
                        "remaining_time": 0.04257164478
                      },
                      {
                        "learn": [
                          0.1644950474
                        ],
                        "iteration": 377,
                        "passed_time": 0.1306534801,
                        "remaining_time": 0.04216858353
                      },
                      {
                        "learn": [
                          0.1644071182
                        ],
                        "iteration": 378,
                        "passed_time": 0.1308289072,
                        "remaining_time": 0.04176859571
                      },
                      {
                        "learn": [
                          0.1641722285
                        ],
                        "iteration": 379,
                        "passed_time": 0.1309972618,
                        "remaining_time": 0.04136755637
                      },
                      {
                        "learn": [
                          0.164039097
                        ],
                        "iteration": 380,
                        "passed_time": 0.1311913995,
                        "remaining_time": 0.04097579143
                      },
                      {
                        "learn": [
                          0.1639967197
                        ],
                        "iteration": 381,
                        "passed_time": 0.1313709462,
                        "remaining_time": 0.04058055407
                      },
                      {
                        "learn": [
                          0.1639564149
                        ],
                        "iteration": 382,
                        "passed_time": 0.131569203,
                        "remaining_time": 0.04019215863
                      },
                      {
                        "learn": [
                          0.1639066822
                        ],
                        "iteration": 383,
                        "passed_time": 0.1317421923,
                        "remaining_time": 0.0397971206
                      },
                      {
                        "learn": [
                          0.1626458834
                        ],
                        "iteration": 384,
                        "passed_time": 0.131916508,
                        "remaining_time": 0.03940363227
                      },
                      {
                        "learn": [
                          0.1625750387
                        ],
                        "iteration": 385,
                        "passed_time": 0.132106756,
                        "remaining_time": 0.03901598493
                      },
                      {
                        "learn": [
                          0.1623555592
                        ],
                        "iteration": 386,
                        "passed_time": 0.1322765752,
                        "remaining_time": 0.03862339277
                      },
                      {
                        "learn": [
                          0.16205547
                        ],
                        "iteration": 387,
                        "passed_time": 0.1324521632,
                        "remaining_time": 0.03823361413
                      },
                      {
                        "learn": [
                          0.1617183779
                        ],
                        "iteration": 388,
                        "passed_time": 0.1326269726,
                        "remaining_time": 0.03784471454
                      },
                      {
                        "learn": [
                          0.1616681288
                        ],
                        "iteration": 389,
                        "passed_time": 0.132830255,
                        "remaining_time": 0.03746494372
                      },
                      {
                        "learn": [
                          0.1613027614
                        ],
                        "iteration": 390,
                        "passed_time": 0.1330043007,
                        "remaining_time": 0.03707792526
                      },
                      {
                        "learn": [
                          0.1608518311
                        ],
                        "iteration": 391,
                        "passed_time": 0.1332142287,
                        "remaining_time": 0.03670187935
                      },
                      {
                        "learn": [
                          0.1603656612
                        ],
                        "iteration": 392,
                        "passed_time": 0.1333867221,
                        "remaining_time": 0.03631648669
                      },
                      {
                        "learn": [
                          0.1600146618
                        ],
                        "iteration": 393,
                        "passed_time": 0.1335557209,
                        "remaining_time": 0.03593123455
                      },
                      {
                        "learn": [
                          0.159634769
                        ],
                        "iteration": 394,
                        "passed_time": 0.1337543659,
                        "remaining_time": 0.03555495802
                      },
                      {
                        "learn": [
                          0.1595983936
                        ],
                        "iteration": 395,
                        "passed_time": 0.1339247401,
                        "remaining_time": 0.03517215397
                      },
                      {
                        "learn": [
                          0.1594864827
                        ],
                        "iteration": 396,
                        "passed_time": 0.1341172172,
                        "remaining_time": 0.0347961546
                      },
                      {
                        "learn": [
                          0.1590991346
                        ],
                        "iteration": 397,
                        "passed_time": 0.1342887583,
                        "remaining_time": 0.03441571193
                      },
                      {
                        "learn": [
                          0.1588939366
                        ],
                        "iteration": 398,
                        "passed_time": 0.1344669041,
                        "remaining_time": 0.03403798826
                      },
                      {
                        "learn": [
                          0.1588683091
                        ],
                        "iteration": 399,
                        "passed_time": 0.1346350651,
                        "remaining_time": 0.03365876628
                      },
                      {
                        "learn": [
                          0.1588419788
                        ],
                        "iteration": 400,
                        "passed_time": 0.1348154819,
                        "remaining_time": 0.03328362271
                      },
                      {
                        "learn": [
                          0.1584418665
                        ],
                        "iteration": 401,
                        "passed_time": 0.1349974914,
                        "remaining_time": 0.03290983622
                      },
                      {
                        "learn": [
                          0.158265802
                        ],
                        "iteration": 402,
                        "passed_time": 0.1351688257,
                        "remaining_time": 0.03253443199
                      },
                      {
                        "learn": [
                          0.1577073914
                        ],
                        "iteration": 403,
                        "passed_time": 0.1353467765,
                        "remaining_time": 0.03216161026
                      },
                      {
                        "learn": [
                          0.1571911449
                        ],
                        "iteration": 404,
                        "passed_time": 0.1355225904,
                        "remaining_time": 0.03178924961
                      },
                      {
                        "learn": [
                          0.1570620822
                        ],
                        "iteration": 405,
                        "passed_time": 0.1357072201,
                        "remaining_time": 0.03141989824
                      },
                      {
                        "learn": [
                          0.1568097058
                        ],
                        "iteration": 406,
                        "passed_time": 0.1358776066,
                        "remaining_time": 0.03104820003
                      },
                      {
                        "learn": [
                          0.1567735856
                        ],
                        "iteration": 407,
                        "passed_time": 0.1360470108,
                        "remaining_time": 0.03067726714
                      },
                      {
                        "learn": [
                          0.1567383862
                        ],
                        "iteration": 408,
                        "passed_time": 0.1362165132,
                        "remaining_time": 0.03030734156
                      },
                      {
                        "learn": [
                          0.1567154398
                        ],
                        "iteration": 409,
                        "passed_time": 0.1363994564,
                        "remaining_time": 0.02994134408
                      },
                      {
                        "learn": [
                          0.1561111187
                        ],
                        "iteration": 410,
                        "passed_time": 0.1365911962,
                        "remaining_time": 0.02957814224
                      },
                      {
                        "learn": [
                          0.155833358
                        ],
                        "iteration": 411,
                        "passed_time": 0.1367785514,
                        "remaining_time": 0.02921483621
                      },
                      {
                        "learn": [
                          0.1555588381
                        ],
                        "iteration": 412,
                        "passed_time": 0.1369618741,
                        "remaining_time": 0.02885153281
                      },
                      {
                        "learn": [
                          0.1555190783
                        ],
                        "iteration": 413,
                        "passed_time": 0.1371317443,
                        "remaining_time": 0.02848630436
                      },
                      {
                        "learn": [
                          0.1551410776
                        ],
                        "iteration": 414,
                        "passed_time": 0.137329907,
                        "remaining_time": 0.02812781227
                      },
                      {
                        "learn": [
                          0.1550831002
                        ],
                        "iteration": 415,
                        "passed_time": 0.1375027113,
                        "remaining_time": 0.02776497055
                      },
                      {
                        "learn": [
                          0.1547541454
                        ],
                        "iteration": 416,
                        "passed_time": 0.1376724109,
                        "remaining_time": 0.02740242232
                      },
                      {
                        "learn": [
                          0.1544987781
                        ],
                        "iteration": 417,
                        "passed_time": 0.1378522854,
                        "remaining_time": 0.02704279284
                      },
                      {
                        "learn": [
                          0.15415116
                        ],
                        "iteration": 418,
                        "passed_time": 0.1380380878,
                        "remaining_time": 0.02668516734
                      },
                      {
                        "learn": [
                          0.1540637023
                        ],
                        "iteration": 419,
                        "passed_time": 0.1382256298,
                        "remaining_time": 0.02632869139
                      },
                      {
                        "learn": [
                          0.1540360037
                        ],
                        "iteration": 420,
                        "passed_time": 0.138401861,
                        "remaining_time": 0.02597089554
                      },
                      {
                        "learn": [
                          0.1539495605
                        ],
                        "iteration": 421,
                        "passed_time": 0.1386001206,
                        "remaining_time": 0.02561803176
                      },
                      {
                        "learn": [
                          0.1535005209
                        ],
                        "iteration": 422,
                        "passed_time": 0.138789659,
                        "remaining_time": 0.02526431144
                      },
                      {
                        "learn": [
                          0.1529026824
                        ],
                        "iteration": 423,
                        "passed_time": 0.1389903927,
                        "remaining_time": 0.02491337227
                      },
                      {
                        "learn": [
                          0.1527770491
                        ],
                        "iteration": 424,
                        "passed_time": 0.1392812729,
                        "remaining_time": 0.02457904817
                      },
                      {
                        "learn": [
                          0.1527530683
                        ],
                        "iteration": 425,
                        "passed_time": 0.1411147197,
                        "remaining_time": 0.02451288559
                      },
                      {
                        "learn": [
                          0.1523466827
                        ],
                        "iteration": 426,
                        "passed_time": 0.141366573,
                        "remaining_time": 0.02416805581
                      },
                      {
                        "learn": [
                          0.1523236899
                        ],
                        "iteration": 427,
                        "passed_time": 0.141596013,
                        "remaining_time": 0.02381989004
                      },
                      {
                        "learn": [
                          0.1520683851
                        ],
                        "iteration": 428,
                        "passed_time": 0.1418249802,
                        "remaining_time": 0.02347219952
                      },
                      {
                        "learn": [
                          0.1516408645
                        ],
                        "iteration": 429,
                        "passed_time": 0.1420354351,
                        "remaining_time": 0.02312204757
                      },
                      {
                        "learn": [
                          0.1513207472
                        ],
                        "iteration": 430,
                        "passed_time": 0.1422620022,
                        "remaining_time": 0.02277512333
                      },
                      {
                        "learn": [
                          0.1512911898
                        ],
                        "iteration": 431,
                        "passed_time": 0.1425145446,
                        "remaining_time": 0.02243284499
                      },
                      {
                        "learn": [
                          0.151137289
                        ],
                        "iteration": 432,
                        "passed_time": 0.1427368066,
                        "remaining_time": 0.02208629572
                      },
                      {
                        "learn": [
                          0.1511157028
                        ],
                        "iteration": 433,
                        "passed_time": 0.1429730372,
                        "remaining_time": 0.02174244345
                      },
                      {
                        "learn": [
                          0.1507904226
                        ],
                        "iteration": 434,
                        "passed_time": 0.1432006094,
                        "remaining_time": 0.02139779221
                      },
                      {
                        "learn": [
                          0.1503730987
                        ],
                        "iteration": 435,
                        "passed_time": 0.1434366491,
                        "remaining_time": 0.02105492097
                      },
                      {
                        "learn": [
                          0.1499734976
                        ],
                        "iteration": 436,
                        "passed_time": 0.1437252716,
                        "remaining_time": 0.02072011924
                      },
                      {
                        "learn": [
                          0.1495996154
                        ],
                        "iteration": 437,
                        "passed_time": 0.1439498196,
                        "remaining_time": 0.02037645848
                      },
                      {
                        "learn": [
                          0.1494978088
                        ],
                        "iteration": 438,
                        "passed_time": 0.1442009992,
                        "remaining_time": 0.02003704089
                      },
                      {
                        "learn": [
                          0.1493146447
                        ],
                        "iteration": 439,
                        "passed_time": 0.1444268795,
                        "remaining_time": 0.01969457448
                      },
                      {
                        "learn": [
                          0.1492828526
                        ],
                        "iteration": 440,
                        "passed_time": 0.1446578063,
                        "remaining_time": 0.01935331196
                      },
                      {
                        "learn": [
                          0.1490455192
                        ],
                        "iteration": 441,
                        "passed_time": 0.1449151325,
                        "remaining_time": 0.01901601286
                      },
                      {
                        "learn": [
                          0.1486837321
                        ],
                        "iteration": 442,
                        "passed_time": 0.145134089,
                        "remaining_time": 0.01867413786
                      },
                      {
                        "learn": [
                          0.1485328454
                        ],
                        "iteration": 443,
                        "passed_time": 0.1453528554,
                        "remaining_time": 0.01833279258
                      },
                      {
                        "learn": [
                          0.1483349173
                        ],
                        "iteration": 444,
                        "passed_time": 0.1455668259,
                        "remaining_time": 0.01799140545
                      },
                      {
                        "learn": [
                          0.1479668529
                        ],
                        "iteration": 445,
                        "passed_time": 0.1457891152,
                        "remaining_time": 0.0176515969
                      },
                      {
                        "learn": [
                          0.1478699153
                        ],
                        "iteration": 446,
                        "passed_time": 0.1460024933,
                        "remaining_time": 0.0173112576
                      },
                      {
                        "learn": [
                          0.1474520187
                        ],
                        "iteration": 447,
                        "passed_time": 0.1462247935,
                        "remaining_time": 0.01697252068
                      },
                      {
                        "learn": [
                          0.147253342
                        ],
                        "iteration": 448,
                        "passed_time": 0.1464417649,
                        "remaining_time": 0.01663369713
                      },
                      {
                        "learn": [
                          0.1471651046
                        ],
                        "iteration": 449,
                        "passed_time": 0.1466603764,
                        "remaining_time": 0.01629559738
                      },
                      {
                        "learn": [
                          0.1467426501
                        ],
                        "iteration": 450,
                        "passed_time": 0.1468777992,
                        "remaining_time": 0.01595789836
                      },
                      {
                        "learn": [
                          0.1466860032
                        ],
                        "iteration": 451,
                        "passed_time": 0.1470810466,
                        "remaining_time": 0.01561922619
                      },
                      {
                        "learn": [
                          0.14616909
                        ],
                        "iteration": 452,
                        "passed_time": 0.1473542391,
                        "remaining_time": 0.01528840892
                      },
                      {
                        "learn": [
                          0.1461490795
                        ],
                        "iteration": 453,
                        "passed_time": 0.1475805886,
                        "remaining_time": 0.01495309928
                      },
                      {
                        "learn": [
                          0.1459503631
                        ],
                        "iteration": 454,
                        "passed_time": 0.147818286,
                        "remaining_time": 0.01461939092
                      },
                      {
                        "learn": [
                          0.1457194293
                        ],
                        "iteration": 455,
                        "passed_time": 0.1480331969,
                        "remaining_time": 0.01428390497
                      },
                      {
                        "learn": [
                          0.1453918556
                        ],
                        "iteration": 456,
                        "passed_time": 0.1482836038,
                        "remaining_time": 0.01395228657
                      },
                      {
                        "learn": [
                          0.1450770075
                        ],
                        "iteration": 457,
                        "passed_time": 0.148529431,
                        "remaining_time": 0.01362060284
                      },
                      {
                        "learn": [
                          0.1448943868
                        ],
                        "iteration": 458,
                        "passed_time": 0.1487289138,
                        "remaining_time": 0.01328515352
                      },
                      {
                        "learn": [
                          0.144519735
                        ],
                        "iteration": 459,
                        "passed_time": 0.1489225187,
                        "remaining_time": 0.01294978423
                      },
                      {
                        "learn": [
                          0.1443962557
                        ],
                        "iteration": 460,
                        "passed_time": 0.1490981298,
                        "remaining_time": 0.01261350773
                      },
                      {
                        "learn": [
                          0.1440858105
                        ],
                        "iteration": 461,
                        "passed_time": 0.1492806612,
                        "remaining_time": 0.01227849595
                      },
                      {
                        "learn": [
                          0.1437468342
                        ],
                        "iteration": 462,
                        "passed_time": 0.1494556001,
                        "remaining_time": 0.01194353608
                      },
                      {
                        "learn": [
                          0.1435930764
                        ],
                        "iteration": 463,
                        "passed_time": 0.149637182,
                        "remaining_time": 0.01160978136
                      },
                      {
                        "learn": [
                          0.1432153388
                        ],
                        "iteration": 464,
                        "passed_time": 0.1498253494,
                        "remaining_time": 0.01127717684
                      },
                      {
                        "learn": [
                          0.1430266139
                        ],
                        "iteration": 465,
                        "passed_time": 0.1500180033,
                        "remaining_time": 0.01094551956
                      },
                      {
                        "learn": [
                          0.1429959535
                        ],
                        "iteration": 466,
                        "passed_time": 0.1502122137,
                        "remaining_time": 0.01061456756
                      },
                      {
                        "learn": [
                          0.1426945835
                        ],
                        "iteration": 467,
                        "passed_time": 0.1503805251,
                        "remaining_time": 0.01028242907
                      },
                      {
                        "learn": [
                          0.1424793832
                        ],
                        "iteration": 468,
                        "passed_time": 0.1505801997,
                        "remaining_time": 0.009953062241
                      },
                      {
                        "learn": [
                          0.1424594728
                        ],
                        "iteration": 469,
                        "passed_time": 0.1507601915,
                        "remaining_time": 0.009622990946
                      },
                      {
                        "learn": [
                          0.1420318961
                        ],
                        "iteration": 470,
                        "passed_time": 0.1509350954,
                        "remaining_time": 0.009293243665
                      },
                      {
                        "learn": [
                          0.141824958
                        ],
                        "iteration": 471,
                        "passed_time": 0.1511102484,
                        "remaining_time": 0.008964167277
                      },
                      {
                        "learn": [
                          0.1414862524
                        ],
                        "iteration": 472,
                        "passed_time": 0.151290792,
                        "remaining_time": 0.008636049437
                      },
                      {
                        "learn": [
                          0.141185185
                        ],
                        "iteration": 473,
                        "passed_time": 0.1514793085,
                        "remaining_time": 0.008308991608
                      },
                      {
                        "learn": [
                          0.1409999527
                        ],
                        "iteration": 474,
                        "passed_time": 0.151669197,
                        "remaining_time": 0.007982589313
                      },
                      {
                        "learn": [
                          0.1405301882
                        ],
                        "iteration": 475,
                        "passed_time": 0.1518701925,
                        "remaining_time": 0.007657320629
                      },
                      {
                        "learn": [
                          0.1402210815
                        ],
                        "iteration": 476,
                        "passed_time": 0.1520464728,
                        "remaining_time": 0.007331381287
                      },
                      {
                        "learn": [
                          0.1398709697
                        ],
                        "iteration": 477,
                        "passed_time": 0.1522337302,
                        "remaining_time": 0.007006573357
                      },
                      {
                        "learn": [
                          0.1397986049
                        ],
                        "iteration": 478,
                        "passed_time": 0.1524056981,
                        "remaining_time": 0.006681669438
                      },
                      {
                        "learn": [
                          0.1395053015
                        ],
                        "iteration": 479,
                        "passed_time": 0.1525845899,
                        "remaining_time": 0.006357691244
                      },
                      {
                        "learn": [
                          0.1390614583
                        ],
                        "iteration": 480,
                        "passed_time": 0.1527542709,
                        "remaining_time": 0.006033952489
                      },
                      {
                        "learn": [
                          0.1388677781
                        ],
                        "iteration": 481,
                        "passed_time": 0.1529693477,
                        "remaining_time": 0.005712548255
                      },
                      {
                        "learn": [
                          0.1384614424
                        ],
                        "iteration": 482,
                        "passed_time": 0.1531466085,
                        "remaining_time": 0.005390253302
                      },
                      {
                        "learn": [
                          0.138246837
                        ],
                        "iteration": 483,
                        "passed_time": 0.1533094062,
                        "remaining_time": 0.005068079543
                      },
                      {
                        "learn": [
                          0.1380821372
                        ],
                        "iteration": 484,
                        "passed_time": 0.153502096,
                        "remaining_time": 0.004747487506
                      },
                      {
                        "learn": [
                          0.1380091814
                        ],
                        "iteration": 485,
                        "passed_time": 0.1536895384,
                        "remaining_time": 0.004427270655
                      },
                      {
                        "learn": [
                          0.1377024031
                        ],
                        "iteration": 486,
                        "passed_time": 0.1538832165,
                        "remaining_time": 0.004107765533
                      },
                      {
                        "learn": [
                          0.1374207144
                        ],
                        "iteration": 487,
                        "passed_time": 0.154054533,
                        "remaining_time": 0.003788226222
                      },
                      {
                        "learn": [
                          0.1371266212
                        ],
                        "iteration": 488,
                        "passed_time": 0.1542233163,
                        "remaining_time": 0.003469236154
                      },
                      {
                        "learn": [
                          0.1368639273
                        ],
                        "iteration": 489,
                        "passed_time": 0.1543917569,
                        "remaining_time": 0.003150852181
                      },
                      {
                        "learn": [
                          0.1367023392
                        ],
                        "iteration": 490,
                        "passed_time": 0.1545595824,
                        "remaining_time": 0.002833067702
                      },
                      {
                        "learn": [
                          0.1364897469
                        ],
                        "iteration": 491,
                        "passed_time": 0.1547540623,
                        "remaining_time": 0.002516326216
                      },
                      {
                        "learn": [
                          0.1362999018
                        ],
                        "iteration": 492,
                        "passed_time": 0.1549257734,
                        "remaining_time": 0.002199757431
                      },
                      {
                        "learn": [
                          0.1360065598
                        ],
                        "iteration": 493,
                        "passed_time": 0.1551048642,
                        "remaining_time": 0.001883864747
                      },
                      {
                        "learn": [
                          0.135605515
                        ],
                        "iteration": 494,
                        "passed_time": 0.1552759335,
                        "remaining_time": 0.001568443772
                      },
                      {
                        "learn": [
                          0.1354585922
                        ],
                        "iteration": 495,
                        "passed_time": 0.1554582112,
                        "remaining_time": 0.001253695252
                      },
                      {
                        "learn": [
                          0.135353784
                        ],
                        "iteration": 496,
                        "passed_time": 0.155653542,
                        "remaining_time": 0.0009395586038
                      },
                      {
                        "learn": [
                          0.1351805014
                        ],
                        "iteration": 497,
                        "passed_time": 0.1558238326,
                        "remaining_time": 0.0006257985246
                      },
                      {
                        "learn": [
                          0.1351392692
                        ],
                        "iteration": 498,
                        "passed_time": 0.1560071722,
                        "remaining_time": 0.0003126396237
                      },
                      {
                        "learn": [
                          0.1348929081
                        ],
                        "iteration": 499,
                        "passed_time": 0.1561766482,
                        "remaining_time": 0
                      }
                    ],
                    "meta": {
                      "test_sets": [],
                      "test_metrics": [],
                      "learn_metrics": [
                        {
                          "best_value": "Min",
                          "name": "Logloss"
                        }
                      ],
                      "launch_mode": "Train",
                      "parameters": "",
                      "iteration_count": 500,
                      "learn_sets": [
                        "learn"
                      ],
                      "name": "experiment"
                    }
                  }
                }
              }
            },
            "layout": "IPY_MODEL_ec415c0e1394485e8998cf4f68f8b965"
          }
        }
      }
    }
  },
  "cells": [
    {
      "cell_type": "markdown",
      "metadata": {
        "id": "view-in-github",
        "colab_type": "text"
      },
      "source": [
        "<a href=\"https://colab.research.google.com/github/s44ths/Data-mining/blob/main/Happy.ipynb\" target=\"_parent\"><img src=\"https://colab.research.google.com/assets/colab-badge.svg\" alt=\"Open In Colab\"/></a>"
      ]
    },
    {
      "cell_type": "markdown",
      "source": [
        "Влияние различных факторов на счастье людей\n",
        "X1 - X6 имеют значения от 1 до 5\n",
        "D - счастлив (1) или несчастлив (0)\n",
        "X1 - Доступность информации о городских службах\n",
        "X2 - Оценка стоимости и доступности жилья\n",
        "X3 - Оценка качества государственных школ\n",
        "X4 - Доверие опрашиваемого к местной полиции\n",
        "X5 - Оценка качества содержания улиц и тротуаров\n",
        "X6 - Оценка доступности общественных мероприятий"
      ],
      "metadata": {
        "id": "RYZjOOX4n8yI"
      }
    },
    {
      "cell_type": "code",
      "execution_count": null,
      "metadata": {
        "colab": {
          "base_uri": "https://localhost:8080/",
          "height": 206
        },
        "id": "D7xHtgp_TtMM",
        "outputId": "cfc21d59-6b44-4d8b-f70a-a2cc0aa64c1a"
      },
      "outputs": [
        {
          "output_type": "execute_result",
          "data": {
            "text/plain": [
              "   D  X1  X2  X3  X4  X5  X6\n",
              "0  0   3   3   3   4   2   4\n",
              "1  0   3   2   3   5   4   3\n",
              "2  1   5   3   3   3   3   5\n",
              "3  0   5   4   3   3   3   5\n",
              "4  0   5   4   3   3   3   5"
            ],
            "text/html": [
              "\n",
              "  <div id=\"df-c9dee60f-7629-485e-8f88-4d0c25355477\">\n",
              "    <div class=\"colab-df-container\">\n",
              "      <div>\n",
              "<style scoped>\n",
              "    .dataframe tbody tr th:only-of-type {\n",
              "        vertical-align: middle;\n",
              "    }\n",
              "\n",
              "    .dataframe tbody tr th {\n",
              "        vertical-align: top;\n",
              "    }\n",
              "\n",
              "    .dataframe thead th {\n",
              "        text-align: right;\n",
              "    }\n",
              "</style>\n",
              "<table border=\"1\" class=\"dataframe\">\n",
              "  <thead>\n",
              "    <tr style=\"text-align: right;\">\n",
              "      <th></th>\n",
              "      <th>D</th>\n",
              "      <th>X1</th>\n",
              "      <th>X2</th>\n",
              "      <th>X3</th>\n",
              "      <th>X4</th>\n",
              "      <th>X5</th>\n",
              "      <th>X6</th>\n",
              "    </tr>\n",
              "  </thead>\n",
              "  <tbody>\n",
              "    <tr>\n",
              "      <th>0</th>\n",
              "      <td>0</td>\n",
              "      <td>3</td>\n",
              "      <td>3</td>\n",
              "      <td>3</td>\n",
              "      <td>4</td>\n",
              "      <td>2</td>\n",
              "      <td>4</td>\n",
              "    </tr>\n",
              "    <tr>\n",
              "      <th>1</th>\n",
              "      <td>0</td>\n",
              "      <td>3</td>\n",
              "      <td>2</td>\n",
              "      <td>3</td>\n",
              "      <td>5</td>\n",
              "      <td>4</td>\n",
              "      <td>3</td>\n",
              "    </tr>\n",
              "    <tr>\n",
              "      <th>2</th>\n",
              "      <td>1</td>\n",
              "      <td>5</td>\n",
              "      <td>3</td>\n",
              "      <td>3</td>\n",
              "      <td>3</td>\n",
              "      <td>3</td>\n",
              "      <td>5</td>\n",
              "    </tr>\n",
              "    <tr>\n",
              "      <th>3</th>\n",
              "      <td>0</td>\n",
              "      <td>5</td>\n",
              "      <td>4</td>\n",
              "      <td>3</td>\n",
              "      <td>3</td>\n",
              "      <td>3</td>\n",
              "      <td>5</td>\n",
              "    </tr>\n",
              "    <tr>\n",
              "      <th>4</th>\n",
              "      <td>0</td>\n",
              "      <td>5</td>\n",
              "      <td>4</td>\n",
              "      <td>3</td>\n",
              "      <td>3</td>\n",
              "      <td>3</td>\n",
              "      <td>5</td>\n",
              "    </tr>\n",
              "  </tbody>\n",
              "</table>\n",
              "</div>\n",
              "      <button class=\"colab-df-convert\" onclick=\"convertToInteractive('df-c9dee60f-7629-485e-8f88-4d0c25355477')\"\n",
              "              title=\"Convert this dataframe to an interactive table.\"\n",
              "              style=\"display:none;\">\n",
              "        \n",
              "  <svg xmlns=\"http://www.w3.org/2000/svg\" height=\"24px\"viewBox=\"0 0 24 24\"\n",
              "       width=\"24px\">\n",
              "    <path d=\"M0 0h24v24H0V0z\" fill=\"none\"/>\n",
              "    <path d=\"M18.56 5.44l.94 2.06.94-2.06 2.06-.94-2.06-.94-.94-2.06-.94 2.06-2.06.94zm-11 1L8.5 8.5l.94-2.06 2.06-.94-2.06-.94L8.5 2.5l-.94 2.06-2.06.94zm10 10l.94 2.06.94-2.06 2.06-.94-2.06-.94-.94-2.06-.94 2.06-2.06.94z\"/><path d=\"M17.41 7.96l-1.37-1.37c-.4-.4-.92-.59-1.43-.59-.52 0-1.04.2-1.43.59L10.3 9.45l-7.72 7.72c-.78.78-.78 2.05 0 2.83L4 21.41c.39.39.9.59 1.41.59.51 0 1.02-.2 1.41-.59l7.78-7.78 2.81-2.81c.8-.78.8-2.07 0-2.86zM5.41 20L4 18.59l7.72-7.72 1.47 1.35L5.41 20z\"/>\n",
              "  </svg>\n",
              "      </button>\n",
              "      \n",
              "  <style>\n",
              "    .colab-df-container {\n",
              "      display:flex;\n",
              "      flex-wrap:wrap;\n",
              "      gap: 12px;\n",
              "    }\n",
              "\n",
              "    .colab-df-convert {\n",
              "      background-color: #E8F0FE;\n",
              "      border: none;\n",
              "      border-radius: 50%;\n",
              "      cursor: pointer;\n",
              "      display: none;\n",
              "      fill: #1967D2;\n",
              "      height: 32px;\n",
              "      padding: 0 0 0 0;\n",
              "      width: 32px;\n",
              "    }\n",
              "\n",
              "    .colab-df-convert:hover {\n",
              "      background-color: #E2EBFA;\n",
              "      box-shadow: 0px 1px 2px rgba(60, 64, 67, 0.3), 0px 1px 3px 1px rgba(60, 64, 67, 0.15);\n",
              "      fill: #174EA6;\n",
              "    }\n",
              "\n",
              "    [theme=dark] .colab-df-convert {\n",
              "      background-color: #3B4455;\n",
              "      fill: #D2E3FC;\n",
              "    }\n",
              "\n",
              "    [theme=dark] .colab-df-convert:hover {\n",
              "      background-color: #434B5C;\n",
              "      box-shadow: 0px 1px 3px 1px rgba(0, 0, 0, 0.15);\n",
              "      filter: drop-shadow(0px 1px 2px rgba(0, 0, 0, 0.3));\n",
              "      fill: #FFFFFF;\n",
              "    }\n",
              "  </style>\n",
              "\n",
              "      <script>\n",
              "        const buttonEl =\n",
              "          document.querySelector('#df-c9dee60f-7629-485e-8f88-4d0c25355477 button.colab-df-convert');\n",
              "        buttonEl.style.display =\n",
              "          google.colab.kernel.accessAllowed ? 'block' : 'none';\n",
              "\n",
              "        async function convertToInteractive(key) {\n",
              "          const element = document.querySelector('#df-c9dee60f-7629-485e-8f88-4d0c25355477');\n",
              "          const dataTable =\n",
              "            await google.colab.kernel.invokeFunction('convertToInteractive',\n",
              "                                                     [key], {});\n",
              "          if (!dataTable) return;\n",
              "\n",
              "          const docLinkHtml = 'Like what you see? Visit the ' +\n",
              "            '<a target=\"_blank\" href=https://colab.research.google.com/notebooks/data_table.ipynb>data table notebook</a>'\n",
              "            + ' to learn more about interactive tables.';\n",
              "          element.innerHTML = '';\n",
              "          dataTable['output_type'] = 'display_data';\n",
              "          await google.colab.output.renderOutput(dataTable, element);\n",
              "          const docLink = document.createElement('div');\n",
              "          docLink.innerHTML = docLinkHtml;\n",
              "          element.appendChild(docLink);\n",
              "        }\n",
              "      </script>\n",
              "    </div>\n",
              "  </div>\n",
              "  "
            ]
          },
          "metadata": {},
          "execution_count": 1
        }
      ],
      "source": [
        "import pandas as pd\n",
        "df = pd.read_csv('SomervilleHappinessSurvey2015.csv', encoding = \"utf-16\")\n",
        "# names = [\"D\", \"City\", \"HomePrice\", \"School\", \"Police\", \"CityQuality\", \"Events\"]\n",
        "df.style.format(decimal=',').bar()\n",
        "df.head()"
      ]
    },
    {
      "cell_type": "code",
      "source": [
        "#df.drop([0], inplace = True)\n",
        "df.head()"
      ],
      "metadata": {
        "colab": {
          "base_uri": "https://localhost:8080/",
          "height": 206
        },
        "id": "HUsOWPMP13Tz",
        "outputId": "b58bf877-1039-444c-a9e1-5907336f9558"
      },
      "execution_count": null,
      "outputs": [
        {
          "output_type": "execute_result",
          "data": {
            "text/plain": [
              "   D  X1  X2  X3  X4  X5  X6\n",
              "0  0   3   3   3   4   2   4\n",
              "1  0   3   2   3   5   4   3\n",
              "2  1   5   3   3   3   3   5\n",
              "3  0   5   4   3   3   3   5\n",
              "4  0   5   4   3   3   3   5"
            ],
            "text/html": [
              "\n",
              "  <div id=\"df-14febb50-63d1-44df-a8db-55c2b7916785\">\n",
              "    <div class=\"colab-df-container\">\n",
              "      <div>\n",
              "<style scoped>\n",
              "    .dataframe tbody tr th:only-of-type {\n",
              "        vertical-align: middle;\n",
              "    }\n",
              "\n",
              "    .dataframe tbody tr th {\n",
              "        vertical-align: top;\n",
              "    }\n",
              "\n",
              "    .dataframe thead th {\n",
              "        text-align: right;\n",
              "    }\n",
              "</style>\n",
              "<table border=\"1\" class=\"dataframe\">\n",
              "  <thead>\n",
              "    <tr style=\"text-align: right;\">\n",
              "      <th></th>\n",
              "      <th>D</th>\n",
              "      <th>X1</th>\n",
              "      <th>X2</th>\n",
              "      <th>X3</th>\n",
              "      <th>X4</th>\n",
              "      <th>X5</th>\n",
              "      <th>X6</th>\n",
              "    </tr>\n",
              "  </thead>\n",
              "  <tbody>\n",
              "    <tr>\n",
              "      <th>0</th>\n",
              "      <td>0</td>\n",
              "      <td>3</td>\n",
              "      <td>3</td>\n",
              "      <td>3</td>\n",
              "      <td>4</td>\n",
              "      <td>2</td>\n",
              "      <td>4</td>\n",
              "    </tr>\n",
              "    <tr>\n",
              "      <th>1</th>\n",
              "      <td>0</td>\n",
              "      <td>3</td>\n",
              "      <td>2</td>\n",
              "      <td>3</td>\n",
              "      <td>5</td>\n",
              "      <td>4</td>\n",
              "      <td>3</td>\n",
              "    </tr>\n",
              "    <tr>\n",
              "      <th>2</th>\n",
              "      <td>1</td>\n",
              "      <td>5</td>\n",
              "      <td>3</td>\n",
              "      <td>3</td>\n",
              "      <td>3</td>\n",
              "      <td>3</td>\n",
              "      <td>5</td>\n",
              "    </tr>\n",
              "    <tr>\n",
              "      <th>3</th>\n",
              "      <td>0</td>\n",
              "      <td>5</td>\n",
              "      <td>4</td>\n",
              "      <td>3</td>\n",
              "      <td>3</td>\n",
              "      <td>3</td>\n",
              "      <td>5</td>\n",
              "    </tr>\n",
              "    <tr>\n",
              "      <th>4</th>\n",
              "      <td>0</td>\n",
              "      <td>5</td>\n",
              "      <td>4</td>\n",
              "      <td>3</td>\n",
              "      <td>3</td>\n",
              "      <td>3</td>\n",
              "      <td>5</td>\n",
              "    </tr>\n",
              "  </tbody>\n",
              "</table>\n",
              "</div>\n",
              "      <button class=\"colab-df-convert\" onclick=\"convertToInteractive('df-14febb50-63d1-44df-a8db-55c2b7916785')\"\n",
              "              title=\"Convert this dataframe to an interactive table.\"\n",
              "              style=\"display:none;\">\n",
              "        \n",
              "  <svg xmlns=\"http://www.w3.org/2000/svg\" height=\"24px\"viewBox=\"0 0 24 24\"\n",
              "       width=\"24px\">\n",
              "    <path d=\"M0 0h24v24H0V0z\" fill=\"none\"/>\n",
              "    <path d=\"M18.56 5.44l.94 2.06.94-2.06 2.06-.94-2.06-.94-.94-2.06-.94 2.06-2.06.94zm-11 1L8.5 8.5l.94-2.06 2.06-.94-2.06-.94L8.5 2.5l-.94 2.06-2.06.94zm10 10l.94 2.06.94-2.06 2.06-.94-2.06-.94-.94-2.06-.94 2.06-2.06.94z\"/><path d=\"M17.41 7.96l-1.37-1.37c-.4-.4-.92-.59-1.43-.59-.52 0-1.04.2-1.43.59L10.3 9.45l-7.72 7.72c-.78.78-.78 2.05 0 2.83L4 21.41c.39.39.9.59 1.41.59.51 0 1.02-.2 1.41-.59l7.78-7.78 2.81-2.81c.8-.78.8-2.07 0-2.86zM5.41 20L4 18.59l7.72-7.72 1.47 1.35L5.41 20z\"/>\n",
              "  </svg>\n",
              "      </button>\n",
              "      \n",
              "  <style>\n",
              "    .colab-df-container {\n",
              "      display:flex;\n",
              "      flex-wrap:wrap;\n",
              "      gap: 12px;\n",
              "    }\n",
              "\n",
              "    .colab-df-convert {\n",
              "      background-color: #E8F0FE;\n",
              "      border: none;\n",
              "      border-radius: 50%;\n",
              "      cursor: pointer;\n",
              "      display: none;\n",
              "      fill: #1967D2;\n",
              "      height: 32px;\n",
              "      padding: 0 0 0 0;\n",
              "      width: 32px;\n",
              "    }\n",
              "\n",
              "    .colab-df-convert:hover {\n",
              "      background-color: #E2EBFA;\n",
              "      box-shadow: 0px 1px 2px rgba(60, 64, 67, 0.3), 0px 1px 3px 1px rgba(60, 64, 67, 0.15);\n",
              "      fill: #174EA6;\n",
              "    }\n",
              "\n",
              "    [theme=dark] .colab-df-convert {\n",
              "      background-color: #3B4455;\n",
              "      fill: #D2E3FC;\n",
              "    }\n",
              "\n",
              "    [theme=dark] .colab-df-convert:hover {\n",
              "      background-color: #434B5C;\n",
              "      box-shadow: 0px 1px 3px 1px rgba(0, 0, 0, 0.15);\n",
              "      filter: drop-shadow(0px 1px 2px rgba(0, 0, 0, 0.3));\n",
              "      fill: #FFFFFF;\n",
              "    }\n",
              "  </style>\n",
              "\n",
              "      <script>\n",
              "        const buttonEl =\n",
              "          document.querySelector('#df-14febb50-63d1-44df-a8db-55c2b7916785 button.colab-df-convert');\n",
              "        buttonEl.style.display =\n",
              "          google.colab.kernel.accessAllowed ? 'block' : 'none';\n",
              "\n",
              "        async function convertToInteractive(key) {\n",
              "          const element = document.querySelector('#df-14febb50-63d1-44df-a8db-55c2b7916785');\n",
              "          const dataTable =\n",
              "            await google.colab.kernel.invokeFunction('convertToInteractive',\n",
              "                                                     [key], {});\n",
              "          if (!dataTable) return;\n",
              "\n",
              "          const docLinkHtml = 'Like what you see? Visit the ' +\n",
              "            '<a target=\"_blank\" href=https://colab.research.google.com/notebooks/data_table.ipynb>data table notebook</a>'\n",
              "            + ' to learn more about interactive tables.';\n",
              "          element.innerHTML = '';\n",
              "          dataTable['output_type'] = 'display_data';\n",
              "          await google.colab.output.renderOutput(dataTable, element);\n",
              "          const docLink = document.createElement('div');\n",
              "          docLink.innerHTML = docLinkHtml;\n",
              "          element.appendChild(docLink);\n",
              "        }\n",
              "      </script>\n",
              "    </div>\n",
              "  </div>\n",
              "  "
            ]
          },
          "metadata": {},
          "execution_count": 2
        }
      ]
    },
    {
      "cell_type": "code",
      "source": [
        "df.info()"
      ],
      "metadata": {
        "colab": {
          "base_uri": "https://localhost:8080/"
        },
        "id": "B7jra_rVUrrz",
        "outputId": "7d32f368-5d6b-46f6-9f0a-e8350e806bc5"
      },
      "execution_count": null,
      "outputs": [
        {
          "output_type": "stream",
          "name": "stdout",
          "text": [
            "<class 'pandas.core.frame.DataFrame'>\n",
            "RangeIndex: 143 entries, 0 to 142\n",
            "Data columns (total 7 columns):\n",
            " #   Column  Non-Null Count  Dtype\n",
            "---  ------  --------------  -----\n",
            " 0   D       143 non-null    int64\n",
            " 1   X1      143 non-null    int64\n",
            " 2   X2      143 non-null    int64\n",
            " 3   X3      143 non-null    int64\n",
            " 4   X4      143 non-null    int64\n",
            " 5   X5      143 non-null    int64\n",
            " 6   X6      143 non-null    int64\n",
            "dtypes: int64(7)\n",
            "memory usage: 7.9 KB\n"
          ]
        }
      ]
    },
    {
      "cell_type": "code",
      "source": [
        "y = df['D']\n",
        "x = df.drop(['D'], axis = 1)"
      ],
      "metadata": {
        "id": "XXqdC1qMaTkW"
      },
      "execution_count": null,
      "outputs": []
    },
    {
      "cell_type": "code",
      "source": [
        "x.info()"
      ],
      "metadata": {
        "colab": {
          "base_uri": "https://localhost:8080/"
        },
        "id": "BuDvNr5IhAzK",
        "outputId": "482079bc-45d4-4f36-879d-37933b7e533d"
      },
      "execution_count": null,
      "outputs": [
        {
          "output_type": "stream",
          "name": "stdout",
          "text": [
            "<class 'pandas.core.frame.DataFrame'>\n",
            "RangeIndex: 143 entries, 0 to 142\n",
            "Data columns (total 6 columns):\n",
            " #   Column  Non-Null Count  Dtype\n",
            "---  ------  --------------  -----\n",
            " 0   X1      143 non-null    int64\n",
            " 1   X2      143 non-null    int64\n",
            " 2   X3      143 non-null    int64\n",
            " 3   X4      143 non-null    int64\n",
            " 4   X5      143 non-null    int64\n",
            " 5   X6      143 non-null    int64\n",
            "dtypes: int64(6)\n",
            "memory usage: 6.8 KB\n"
          ]
        }
      ]
    },
    {
      "cell_type": "code",
      "source": [
        "from sklearn.model_selection import train_test_split\n",
        "x_train, x_test, y_train, y_test = train_test_split(x, y, test_size=0.25, random_state=21)"
      ],
      "metadata": {
        "id": "tcWilWzKx6dc"
      },
      "execution_count": null,
      "outputs": []
    },
    {
      "cell_type": "code",
      "source": [
        "from sklearn.tree import DecisionTreeClassifier, plot_tree\n",
        "\n",
        "dectree = DecisionTreeClassifier(max_depth=3, random_state=21)\n",
        "dectree.fit(x_train,y_train)\n",
        "dectree.score(x_test,y_test)"
      ],
      "metadata": {
        "colab": {
          "base_uri": "https://localhost:8080/"
        },
        "id": "G9dhXx5Mx_17",
        "outputId": "57a0ea3c-485e-4b2d-b40b-6fdba44cb11b"
      },
      "execution_count": null,
      "outputs": [
        {
          "output_type": "execute_result",
          "data": {
            "text/plain": [
              "0.6944444444444444"
            ]
          },
          "metadata": {},
          "execution_count": 7
        }
      ]
    },
    {
      "cell_type": "code",
      "source": [
        "import matplotlib.pyplot as plt\n",
        "plt.figure(figsize=((20,13)))\n",
        "plot_tree(dectree, \n",
        "          filled=True,\n",
        "          feature_names=x.columns)\n",
        "plt.show()"
      ],
      "metadata": {
        "colab": {
          "base_uri": "https://localhost:8080/",
          "height": 738
        },
        "id": "TizfjPTPybo0",
        "outputId": "d98401f6-f075-4771-fc88-824bce2c1017"
      },
      "execution_count": null,
      "outputs": [
        {
          "output_type": "display_data",
          "data": {
            "text/plain": [
              "<Figure size 1440x936 with 1 Axes>"
            ],
            "image/png": "[encoded data removed]"
          },
          "metadata": {
            "needs_background": "light"
          }
        }
      ]
    },
    {
      "cell_type": "markdown",
      "source": [
        "Случайный лес"
      ],
      "metadata": {
        "id": "bcZSQJYHz0nn"
      }
    },
    {
      "cell_type": "code",
      "source": [
        "from sklearn.ensemble import RandomForestClassifier\n",
        "\n",
        "rfc = RandomForestClassifier(n_estimators = 30,  max_depth=5,  random_state=21)\n",
        "rfc.fit(x_train, y_train)\n",
        "rfc.score(x_test, y_test)"
      ],
      "metadata": {
        "colab": {
          "base_uri": "https://localhost:8080/"
        },
        "id": "KxBlRFipz2hM",
        "outputId": "de58c5b9-7a83-45e0-d5a9-619fb1a5f94c"
      },
      "execution_count": null,
      "outputs": [
        {
          "output_type": "execute_result",
          "data": {
            "text/plain": [
              "0.6944444444444444"
            ]
          },
          "metadata": {},
          "execution_count": 9
        }
      ]
    },
    {
      "cell_type": "code",
      "source": [
        "from sklearn.metrics import confusion_matrix\n",
        "\n",
        "y_pred = rfc.predict(x_test)\n",
        "pd.DataFrame(confusion_matrix(y_test, y_pred))"
      ],
      "metadata": {
        "colab": {
          "base_uri": "https://localhost:8080/",
          "height": 112
        },
        "id": "Qs_4O0Mo0P1L",
        "outputId": "271f9b5e-d5fe-4002-97b5-08a25caa4111"
      },
      "execution_count": null,
      "outputs": [
        {
          "output_type": "execute_result",
          "data": {
            "text/plain": [
              "   0   1\n",
              "0  9   9\n",
              "1  2  16"
            ],
            "text/html": [
              "\n",
              "  <div id=\"df-7fb7af2e-3dd9-4244-86e2-3c1e76b0e1c5\">\n",
              "    <div class=\"colab-df-container\">\n",
              "      <div>\n",
              "<style scoped>\n",
              "    .dataframe tbody tr th:only-of-type {\n",
              "        vertical-align: middle;\n",
              "    }\n",
              "\n",
              "    .dataframe tbody tr th {\n",
              "        vertical-align: top;\n",
              "    }\n",
              "\n",
              "    .dataframe thead th {\n",
              "        text-align: right;\n",
              "    }\n",
              "</style>\n",
              "<table border=\"1\" class=\"dataframe\">\n",
              "  <thead>\n",
              "    <tr style=\"text-align: right;\">\n",
              "      <th></th>\n",
              "      <th>0</th>\n",
              "      <th>1</th>\n",
              "    </tr>\n",
              "  </thead>\n",
              "  <tbody>\n",
              "    <tr>\n",
              "      <th>0</th>\n",
              "      <td>9</td>\n",
              "      <td>9</td>\n",
              "    </tr>\n",
              "    <tr>\n",
              "      <th>1</th>\n",
              "      <td>2</td>\n",
              "      <td>16</td>\n",
              "    </tr>\n",
              "  </tbody>\n",
              "</table>\n",
              "</div>\n",
              "      <button class=\"colab-df-convert\" onclick=\"convertToInteractive('df-7fb7af2e-3dd9-4244-86e2-3c1e76b0e1c5')\"\n",
              "              title=\"Convert this dataframe to an interactive table.\"\n",
              "              style=\"display:none;\">\n",
              "        \n",
              "  <svg xmlns=\"http://www.w3.org/2000/svg\" height=\"24px\"viewBox=\"0 0 24 24\"\n",
              "       width=\"24px\">\n",
              "    <path d=\"M0 0h24v24H0V0z\" fill=\"none\"/>\n",
              "    <path d=\"M18.56 5.44l.94 2.06.94-2.06 2.06-.94-2.06-.94-.94-2.06-.94 2.06-2.06.94zm-11 1L8.5 8.5l.94-2.06 2.06-.94-2.06-.94L8.5 2.5l-.94 2.06-2.06.94zm10 10l.94 2.06.94-2.06 2.06-.94-2.06-.94-.94-2.06-.94 2.06-2.06.94z\"/><path d=\"M17.41 7.96l-1.37-1.37c-.4-.4-.92-.59-1.43-.59-.52 0-1.04.2-1.43.59L10.3 9.45l-7.72 7.72c-.78.78-.78 2.05 0 2.83L4 21.41c.39.39.9.59 1.41.59.51 0 1.02-.2 1.41-.59l7.78-7.78 2.81-2.81c.8-.78.8-2.07 0-2.86zM5.41 20L4 18.59l7.72-7.72 1.47 1.35L5.41 20z\"/>\n",
              "  </svg>\n",
              "      </button>\n",
              "      \n",
              "  <style>\n",
              "    .colab-df-container {\n",
              "      display:flex;\n",
              "      flex-wrap:wrap;\n",
              "      gap: 12px;\n",
              "    }\n",
              "\n",
              "    .colab-df-convert {\n",
              "      background-color: #E8F0FE;\n",
              "      border: none;\n",
              "      border-radius: 50%;\n",
              "      cursor: pointer;\n",
              "      display: none;\n",
              "      fill: #1967D2;\n",
              "      height: 32px;\n",
              "      padding: 0 0 0 0;\n",
              "      width: 32px;\n",
              "    }\n",
              "\n",
              "    .colab-df-convert:hover {\n",
              "      background-color: #E2EBFA;\n",
              "      box-shadow: 0px 1px 2px rgba(60, 64, 67, 0.3), 0px 1px 3px 1px rgba(60, 64, 67, 0.15);\n",
              "      fill: #174EA6;\n",
              "    }\n",
              "\n",
              "    [theme=dark] .colab-df-convert {\n",
              "      background-color: #3B4455;\n",
              "      fill: #D2E3FC;\n",
              "    }\n",
              "\n",
              "    [theme=dark] .colab-df-convert:hover {\n",
              "      background-color: #434B5C;\n",
              "      box-shadow: 0px 1px 3px 1px rgba(0, 0, 0, 0.15);\n",
              "      filter: drop-shadow(0px 1px 2px rgba(0, 0, 0, 0.3));\n",
              "      fill: #FFFFFF;\n",
              "    }\n",
              "  </style>\n",
              "\n",
              "      <script>\n",
              "        const buttonEl =\n",
              "          document.querySelector('#df-7fb7af2e-3dd9-4244-86e2-3c1e76b0e1c5 button.colab-df-convert');\n",
              "        buttonEl.style.display =\n",
              "          google.colab.kernel.accessAllowed ? 'block' : 'none';\n",
              "\n",
              "        async function convertToInteractive(key) {\n",
              "          const element = document.querySelector('#df-7fb7af2e-3dd9-4244-86e2-3c1e76b0e1c5');\n",
              "          const dataTable =\n",
              "            await google.colab.kernel.invokeFunction('convertToInteractive',\n",
              "                                                     [key], {});\n",
              "          if (!dataTable) return;\n",
              "\n",
              "          const docLinkHtml = 'Like what you see? Visit the ' +\n",
              "            '<a target=\"_blank\" href=https://colab.research.google.com/notebooks/data_table.ipynb>data table notebook</a>'\n",
              "            + ' to learn more about interactive tables.';\n",
              "          element.innerHTML = '';\n",
              "          dataTable['output_type'] = 'display_data';\n",
              "          await google.colab.output.renderOutput(dataTable, element);\n",
              "          const docLink = document.createElement('div');\n",
              "          docLink.innerHTML = docLinkHtml;\n",
              "          element.appendChild(docLink);\n",
              "        }\n",
              "      </script>\n",
              "    </div>\n",
              "  </div>\n",
              "  "
            ]
          },
          "metadata": {},
          "execution_count": 10
        }
      ]
    },
    {
      "cell_type": "code",
      "source": [
        "from sklearn.metrics import f1_score\n",
        "f1_score(y_test,y_pred)"
      ],
      "metadata": {
        "colab": {
          "base_uri": "https://localhost:8080/"
        },
        "id": "CHiDCqyd1C0S",
        "outputId": "e0380b1c-841f-4401-95d8-66429a5d01e3"
      },
      "execution_count": null,
      "outputs": [
        {
          "output_type": "execute_result",
          "data": {
            "text/plain": [
              "0.7441860465116279"
            ]
          },
          "metadata": {},
          "execution_count": 11
        }
      ]
    },
    {
      "cell_type": "code",
      "source": [
        "import seaborn as sns\n",
        "sns.barplot(x = rfc.feature_importances_, y = x_test.columns)\n",
        "plt.xlabel('Важность признаков')\n",
        "plt.ylabel('Признаки')\n",
        "plt.show()"
      ],
      "metadata": {
        "colab": {
          "base_uri": "https://localhost:8080/",
          "height": 279
        },
        "id": "ljFGKFZW1Tgv",
        "outputId": "ef4c9cd3-85a0-486e-bb1b-d912f5faa3d5"
      },
      "execution_count": null,
      "outputs": [
        {
          "output_type": "display_data",
          "data": {
            "text/plain": [
              "<Figure size 432x288 with 1 Axes>"
            ],
            "image/png": "[encoded data removed]"
          },
          "metadata": {
            "needs_background": "light"
          }
        }
      ]
    },
    {
      "cell_type": "markdown",
      "source": [
        "Градиентный бустинг"
      ],
      "metadata": {
        "id": "uU3IgZd-1o3Y"
      }
    },
    {
      "cell_type": "code",
      "source": [
        "import xgboost as xgb\n",
        "\n",
        "cl = xgb.XGBClassifier(n_estimators = 30, max_depth = 5, random_state=21)\n",
        "cl.fit(x_train,y_train)\n",
        "cl.score(x_test, y_test)"
      ],
      "metadata": {
        "colab": {
          "base_uri": "https://localhost:8080/"
        },
        "id": "7MiOPvs2Zkod",
        "outputId": "64a29a0e-3f67-40d5-de78-bc3f2db56873"
      },
      "execution_count": null,
      "outputs": [
        {
          "output_type": "execute_result",
          "data": {
            "text/plain": [
              "0.6666666666666666"
            ]
          },
          "metadata": {},
          "execution_count": 13
        }
      ]
    },
    {
      "cell_type": "code",
      "source": [
        "y_pred = cl.predict(x_test)\n",
        "pd.DataFrame(confusion_matrix(y_test, y_pred))"
      ],
      "metadata": {
        "colab": {
          "base_uri": "https://localhost:8080/",
          "height": 112
        },
        "id": "W-YuKoNKaGjH",
        "outputId": "a943828c-a817-4ac4-a07f-24ad4e69e292"
      },
      "execution_count": null,
      "outputs": [
        {
          "output_type": "execute_result",
          "data": {
            "text/plain": [
              "    0   1\n",
              "0  10   8\n",
              "1   4  14"
            ],
            "text/html": [
              "\n",
              "  <div id=\"df-dc5d6555-a9ad-411f-87b4-c16c920dfaf6\">\n",
              "    <div class=\"colab-df-container\">\n",
              "      <div>\n",
              "<style scoped>\n",
              "    .dataframe tbody tr th:only-of-type {\n",
              "        vertical-align: middle;\n",
              "    }\n",
              "\n",
              "    .dataframe tbody tr th {\n",
              "        vertical-align: top;\n",
              "    }\n",
              "\n",
              "    .dataframe thead th {\n",
              "        text-align: right;\n",
              "    }\n",
              "</style>\n",
              "<table border=\"1\" class=\"dataframe\">\n",
              "  <thead>\n",
              "    <tr style=\"text-align: right;\">\n",
              "      <th></th>\n",
              "      <th>0</th>\n",
              "      <th>1</th>\n",
              "    </tr>\n",
              "  </thead>\n",
              "  <tbody>\n",
              "    <tr>\n",
              "      <th>0</th>\n",
              "      <td>10</td>\n",
              "      <td>8</td>\n",
              "    </tr>\n",
              "    <tr>\n",
              "      <th>1</th>\n",
              "      <td>4</td>\n",
              "      <td>14</td>\n",
              "    </tr>\n",
              "  </tbody>\n",
              "</table>\n",
              "</div>\n",
              "      <button class=\"colab-df-convert\" onclick=\"convertToInteractive('df-dc5d6555-a9ad-411f-87b4-c16c920dfaf6')\"\n",
              "              title=\"Convert this dataframe to an interactive table.\"\n",
              "              style=\"display:none;\">\n",
              "        \n",
              "  <svg xmlns=\"http://www.w3.org/2000/svg\" height=\"24px\"viewBox=\"0 0 24 24\"\n",
              "       width=\"24px\">\n",
              "    <path d=\"M0 0h24v24H0V0z\" fill=\"none\"/>\n",
              "    <path d=\"M18.56 5.44l.94 2.06.94-2.06 2.06-.94-2.06-.94-.94-2.06-.94 2.06-2.06.94zm-11 1L8.5 8.5l.94-2.06 2.06-.94-2.06-.94L8.5 2.5l-.94 2.06-2.06.94zm10 10l.94 2.06.94-2.06 2.06-.94-2.06-.94-.94-2.06-.94 2.06-2.06.94z\"/><path d=\"M17.41 7.96l-1.37-1.37c-.4-.4-.92-.59-1.43-.59-.52 0-1.04.2-1.43.59L10.3 9.45l-7.72 7.72c-.78.78-.78 2.05 0 2.83L4 21.41c.39.39.9.59 1.41.59.51 0 1.02-.2 1.41-.59l7.78-7.78 2.81-2.81c.8-.78.8-2.07 0-2.86zM5.41 20L4 18.59l7.72-7.72 1.47 1.35L5.41 20z\"/>\n",
              "  </svg>\n",
              "      </button>\n",
              "      \n",
              "  <style>\n",
              "    .colab-df-container {\n",
              "      display:flex;\n",
              "      flex-wrap:wrap;\n",
              "      gap: 12px;\n",
              "    }\n",
              "\n",
              "    .colab-df-convert {\n",
              "      background-color: #E8F0FE;\n",
              "      border: none;\n",
              "      border-radius: 50%;\n",
              "      cursor: pointer;\n",
              "      display: none;\n",
              "      fill: #1967D2;\n",
              "      height: 32px;\n",
              "      padding: 0 0 0 0;\n",
              "      width: 32px;\n",
              "    }\n",
              "\n",
              "    .colab-df-convert:hover {\n",
              "      background-color: #E2EBFA;\n",
              "      box-shadow: 0px 1px 2px rgba(60, 64, 67, 0.3), 0px 1px 3px 1px rgba(60, 64, 67, 0.15);\n",
              "      fill: #174EA6;\n",
              "    }\n",
              "\n",
              "    [theme=dark] .colab-df-convert {\n",
              "      background-color: #3B4455;\n",
              "      fill: #D2E3FC;\n",
              "    }\n",
              "\n",
              "    [theme=dark] .colab-df-convert:hover {\n",
              "      background-color: #434B5C;\n",
              "      box-shadow: 0px 1px 3px 1px rgba(0, 0, 0, 0.15);\n",
              "      filter: drop-shadow(0px 1px 2px rgba(0, 0, 0, 0.3));\n",
              "      fill: #FFFFFF;\n",
              "    }\n",
              "  </style>\n",
              "\n",
              "      <script>\n",
              "        const buttonEl =\n",
              "          document.querySelector('#df-dc5d6555-a9ad-411f-87b4-c16c920dfaf6 button.colab-df-convert');\n",
              "        buttonEl.style.display =\n",
              "          google.colab.kernel.accessAllowed ? 'block' : 'none';\n",
              "\n",
              "        async function convertToInteractive(key) {\n",
              "          const element = document.querySelector('#df-dc5d6555-a9ad-411f-87b4-c16c920dfaf6');\n",
              "          const dataTable =\n",
              "            await google.colab.kernel.invokeFunction('convertToInteractive',\n",
              "                                                     [key], {});\n",
              "          if (!dataTable) return;\n",
              "\n",
              "          const docLinkHtml = 'Like what you see? Visit the ' +\n",
              "            '<a target=\"_blank\" href=https://colab.research.google.com/notebooks/data_table.ipynb>data table notebook</a>'\n",
              "            + ' to learn more about interactive tables.';\n",
              "          element.innerHTML = '';\n",
              "          dataTable['output_type'] = 'display_data';\n",
              "          await google.colab.output.renderOutput(dataTable, element);\n",
              "          const docLink = document.createElement('div');\n",
              "          docLink.innerHTML = docLinkHtml;\n",
              "          element.appendChild(docLink);\n",
              "        }\n",
              "      </script>\n",
              "    </div>\n",
              "  </div>\n",
              "  "
            ]
          },
          "metadata": {},
          "execution_count": 14
        }
      ]
    },
    {
      "cell_type": "code",
      "source": [
        "f1_score(y_test,y_pred)"
      ],
      "metadata": {
        "colab": {
          "base_uri": "https://localhost:8080/"
        },
        "id": "jve8Trl7aK5r",
        "outputId": "71702406-0cb5-41d2-ebaf-7c6aa8e453e2"
      },
      "execution_count": null,
      "outputs": [
        {
          "output_type": "execute_result",
          "data": {
            "text/plain": [
              "0.7000000000000001"
            ]
          },
          "metadata": {},
          "execution_count": 15
        }
      ]
    },
    {
      "cell_type": "code",
      "source": [
        "xgb.plot_importance(cl)"
      ],
      "metadata": {
        "colab": {
          "base_uri": "https://localhost:8080/",
          "height": 312
        },
        "id": "_yz27AvJaQGG",
        "outputId": "1ae669ac-14f5-41e8-a4d6-a8a6025baf79"
      },
      "execution_count": null,
      "outputs": [
        {
          "output_type": "execute_result",
          "data": {
            "text/plain": [
              "<matplotlib.axes._subplots.AxesSubplot at 0x7f9c0abeeb10>"
            ]
          },
          "metadata": {},
          "execution_count": 16
        },
        {
          "output_type": "display_data",
          "data": {
            "text/plain": [
              "<Figure size 432x288 with 1 Axes>"
            ],
            "image/png": "[encoded data removed]"
          },
          "metadata": {
            "needs_background": "light"
          }
        }
      ]
    },
    {
      "cell_type": "code",
      "source": [
        "!pip install CatBoost"
      ],
      "metadata": {
        "colab": {
          "base_uri": "https://localhost:8080/"
        },
        "id": "tb28JIOPjNV7",
        "outputId": "73aaa6d9-5798-4223-f4d5-76afba563176"
      },
      "execution_count": null,
      "outputs": [
        {
          "output_type": "stream",
          "name": "stdout",
          "text": [
            "Requirement already satisfied: CatBoost in /usr/local/lib/python3.7/dist-packages (1.0.4)\n",
            "Requirement already satisfied: numpy>=1.16.0 in /usr/local/lib/python3.7/dist-packages (from CatBoost) (1.21.5)\n",
            "Requirement already satisfied: scipy in /usr/local/lib/python3.7/dist-packages (from CatBoost) (1.4.1)\n",
            "Requirement already satisfied: plotly in /usr/local/lib/python3.7/dist-packages (from CatBoost) (5.5.0)\n",
            "Requirement already satisfied: matplotlib in /usr/local/lib/python3.7/dist-packages (from CatBoost) (3.2.2)\n",
            "Requirement already satisfied: graphviz in /usr/local/lib/python3.7/dist-packages (from CatBoost) (0.10.1)\n",
            "Requirement already satisfied: pandas>=0.24.0 in /usr/local/lib/python3.7/dist-packages (from CatBoost) (1.3.5)\n",
            "Requirement already satisfied: six in /usr/local/lib/python3.7/dist-packages (from CatBoost) (1.15.0)\n",
            "Requirement already satisfied: python-dateutil>=2.7.3 in /usr/local/lib/python3.7/dist-packages (from pandas>=0.24.0->CatBoost) (2.8.2)\n",
            "Requirement already satisfied: pytz>=2017.3 in /usr/local/lib/python3.7/dist-packages (from pandas>=0.24.0->CatBoost) (2018.9)\n",
            "Requirement already satisfied: cycler>=0.10 in /usr/local/lib/python3.7/dist-packages (from matplotlib->CatBoost) (0.11.0)\n",
            "Requirement already satisfied: kiwisolver>=1.0.1 in /usr/local/lib/python3.7/dist-packages (from matplotlib->CatBoost) (1.3.2)\n",
            "Requirement already satisfied: pyparsing!=2.0.4,!=2.1.2,!=2.1.6,>=2.0.1 in /usr/local/lib/python3.7/dist-packages (from matplotlib->CatBoost) (3.0.7)\n",
            "Requirement already satisfied: tenacity>=6.2.0 in /usr/local/lib/python3.7/dist-packages (from plotly->CatBoost) (8.0.1)\n"
          ]
        }
      ]
    },
    {
      "cell_type": "code",
      "source": [
        "from catboost import CatBoostClassifier\n",
        "\n",
        "cl_cb = CatBoostClassifier(iterations = 500, depth = 4, l2_leaf_reg = 4.0, learning_rate = 0.07)\n",
        "cl_cb.fit(x_train, y_train, logging_level = 'Silent', plot = True)\n",
        "cb_pred = cl_cb.predict(x_test)\n",
        "cl_cb.score(x_test, y_test)"
      ],
      "metadata": {
        "colab": {
          "base_uri": "https://localhost:8080/",
          "height": 34,
          "referenced_widgets": [
            "893b1c0ce4924e46adb566889a7582ae"
          ]
        },
        "id": "Y3U1cVJdjjwe",
        "outputId": "9c360d6f-6827-43f4-9148-e1e7d3b0edbf"
      },
      "execution_count": null,
      "outputs": [
        {
          "output_type": "display_data",
          "data": {
            "text/plain": [
              "MetricVisualizer(layout=Layout(align_self='stretch', height='500px'))"
            ],
            "application/vnd.jupyter.widget-view+json": {
              "version_major": 2,
              "version_minor": 0,
              "model_id": "893b1c0ce4924e46adb566889a7582ae"
            }
          },
          "metadata": {}
        },
        {
          "output_type": "execute_result",
          "data": {
            "text/plain": [
              "0.5833333333333334"
            ]
          },
          "metadata": {},
          "execution_count": 18
        }
      ]
    },
    {
      "cell_type": "code",
      "source": [
        "pd.DataFrame(confusion_matrix(y_test, cb_pred))"
      ],
      "metadata": {
        "colab": {
          "base_uri": "https://localhost:8080/",
          "height": 112
        },
        "id": "WVbGMxTmnMXf",
        "outputId": "a67d0a47-16f9-4b76-e01a-f68cb3b57e17"
      },
      "execution_count": null,
      "outputs": [
        {
          "output_type": "execute_result",
          "data": {
            "text/plain": [
              "   0   1\n",
              "0  8  10\n",
              "1  5  13"
            ],
            "text/html": [
              "\n",
              "  <div id=\"df-1ba97295-549a-4714-80f0-51f9920ea2d1\">\n",
              "    <div class=\"colab-df-container\">\n",
              "      <div>\n",
              "<style scoped>\n",
              "    .dataframe tbody tr th:only-of-type {\n",
              "        vertical-align: middle;\n",
              "    }\n",
              "\n",
              "    .dataframe tbody tr th {\n",
              "        vertical-align: top;\n",
              "    }\n",
              "\n",
              "    .dataframe thead th {\n",
              "        text-align: right;\n",
              "    }\n",
              "</style>\n",
              "<table border=\"1\" class=\"dataframe\">\n",
              "  <thead>\n",
              "    <tr style=\"text-align: right;\">\n",
              "      <th></th>\n",
              "      <th>0</th>\n",
              "      <th>1</th>\n",
              "    </tr>\n",
              "  </thead>\n",
              "  <tbody>\n",
              "    <tr>\n",
              "      <th>0</th>\n",
              "      <td>8</td>\n",
              "      <td>10</td>\n",
              "    </tr>\n",
              "    <tr>\n",
              "      <th>1</th>\n",
              "      <td>5</td>\n",
              "      <td>13</td>\n",
              "    </tr>\n",
              "  </tbody>\n",
              "</table>\n",
              "</div>\n",
              "      <button class=\"colab-df-convert\" onclick=\"convertToInteractive('df-1ba97295-549a-4714-80f0-51f9920ea2d1')\"\n",
              "              title=\"Convert this dataframe to an interactive table.\"\n",
              "              style=\"display:none;\">\n",
              "        \n",
              "  <svg xmlns=\"http://www.w3.org/2000/svg\" height=\"24px\"viewBox=\"0 0 24 24\"\n",
              "       width=\"24px\">\n",
              "    <path d=\"M0 0h24v24H0V0z\" fill=\"none\"/>\n",
              "    <path d=\"M18.56 5.44l.94 2.06.94-2.06 2.06-.94-2.06-.94-.94-2.06-.94 2.06-2.06.94zm-11 1L8.5 8.5l.94-2.06 2.06-.94-2.06-.94L8.5 2.5l-.94 2.06-2.06.94zm10 10l.94 2.06.94-2.06 2.06-.94-2.06-.94-.94-2.06-.94 2.06-2.06.94z\"/><path d=\"M17.41 7.96l-1.37-1.37c-.4-.4-.92-.59-1.43-.59-.52 0-1.04.2-1.43.59L10.3 9.45l-7.72 7.72c-.78.78-.78 2.05 0 2.83L4 21.41c.39.39.9.59 1.41.59.51 0 1.02-.2 1.41-.59l7.78-7.78 2.81-2.81c.8-.78.8-2.07 0-2.86zM5.41 20L4 18.59l7.72-7.72 1.47 1.35L5.41 20z\"/>\n",
              "  </svg>\n",
              "      </button>\n",
              "      \n",
              "  <style>\n",
              "    .colab-df-container {\n",
              "      display:flex;\n",
              "      flex-wrap:wrap;\n",
              "      gap: 12px;\n",
              "    }\n",
              "\n",
              "    .colab-df-convert {\n",
              "      background-color: #E8F0FE;\n",
              "      border: none;\n",
              "      border-radius: 50%;\n",
              "      cursor: pointer;\n",
              "      display: none;\n",
              "      fill: #1967D2;\n",
              "      height: 32px;\n",
              "      padding: 0 0 0 0;\n",
              "      width: 32px;\n",
              "    }\n",
              "\n",
              "    .colab-df-convert:hover {\n",
              "      background-color: #E2EBFA;\n",
              "      box-shadow: 0px 1px 2px rgba(60, 64, 67, 0.3), 0px 1px 3px 1px rgba(60, 64, 67, 0.15);\n",
              "      fill: #174EA6;\n",
              "    }\n",
              "\n",
              "    [theme=dark] .colab-df-convert {\n",
              "      background-color: #3B4455;\n",
              "      fill: #D2E3FC;\n",
              "    }\n",
              "\n",
              "    [theme=dark] .colab-df-convert:hover {\n",
              "      background-color: #434B5C;\n",
              "      box-shadow: 0px 1px 3px 1px rgba(0, 0, 0, 0.15);\n",
              "      filter: drop-shadow(0px 1px 2px rgba(0, 0, 0, 0.3));\n",
              "      fill: #FFFFFF;\n",
              "    }\n",
              "  </style>\n",
              "\n",
              "      <script>\n",
              "        const buttonEl =\n",
              "          document.querySelector('#df-1ba97295-549a-4714-80f0-51f9920ea2d1 button.colab-df-convert');\n",
              "        buttonEl.style.display =\n",
              "          google.colab.kernel.accessAllowed ? 'block' : 'none';\n",
              "\n",
              "        async function convertToInteractive(key) {\n",
              "          const element = document.querySelector('#df-1ba97295-549a-4714-80f0-51f9920ea2d1');\n",
              "          const dataTable =\n",
              "            await google.colab.kernel.invokeFunction('convertToInteractive',\n",
              "                                                     [key], {});\n",
              "          if (!dataTable) return;\n",
              "\n",
              "          const docLinkHtml = 'Like what you see? Visit the ' +\n",
              "            '<a target=\"_blank\" href=https://colab.research.google.com/notebooks/data_table.ipynb>data table notebook</a>'\n",
              "            + ' to learn more about interactive tables.';\n",
              "          element.innerHTML = '';\n",
              "          dataTable['output_type'] = 'display_data';\n",
              "          await google.colab.output.renderOutput(dataTable, element);\n",
              "          const docLink = document.createElement('div');\n",
              "          docLink.innerHTML = docLinkHtml;\n",
              "          element.appendChild(docLink);\n",
              "        }\n",
              "      </script>\n",
              "    </div>\n",
              "  </div>\n",
              "  "
            ]
          },
          "metadata": {},
          "execution_count": 19
        }
      ]
    },
    {
      "cell_type": "code",
      "source": [
        "pd.DataFrame({'feature_importance': cl_cb.get_feature_importance(), \n",
        "              'feature_names': x.columns}).sort_values(by=['feature_importance'], \n",
        "                                                           ascending=False)"
      ],
      "metadata": {
        "colab": {
          "base_uri": "https://localhost:8080/",
          "height": 238
        },
        "id": "lXGnowkJnPCK",
        "outputId": "ef06e228-cd76-44c0-f326-fa6fb2b53898"
      },
      "execution_count": null,
      "outputs": [
        {
          "output_type": "execute_result",
          "data": {
            "text/plain": [
              "   feature_importance feature_names\n",
              "0           21.383606            X1\n",
              "2           20.205730            X3\n",
              "1           17.533096            X2\n",
              "3           14.757299            X4\n",
              "4           14.481941            X5\n",
              "5           11.638327            X6"
            ],
            "text/html": [
              "\n",
              "  <div id=\"df-d1de9e97-be52-4229-ba55-09a9f3c56702\">\n",
              "    <div class=\"colab-df-container\">\n",
              "      <div>\n",
              "<style scoped>\n",
              "    .dataframe tbody tr th:only-of-type {\n",
              "        vertical-align: middle;\n",
              "    }\n",
              "\n",
              "    .dataframe tbody tr th {\n",
              "        vertical-align: top;\n",
              "    }\n",
              "\n",
              "    .dataframe thead th {\n",
              "        text-align: right;\n",
              "    }\n",
              "</style>\n",
              "<table border=\"1\" class=\"dataframe\">\n",
              "  <thead>\n",
              "    <tr style=\"text-align: right;\">\n",
              "      <th></th>\n",
              "      <th>feature_importance</th>\n",
              "      <th>feature_names</th>\n",
              "    </tr>\n",
              "  </thead>\n",
              "  <tbody>\n",
              "    <tr>\n",
              "      <th>0</th>\n",
              "      <td>21.383606</td>\n",
              "      <td>X1</td>\n",
              "    </tr>\n",
              "    <tr>\n",
              "      <th>2</th>\n",
              "      <td>20.205730</td>\n",
              "      <td>X3</td>\n",
              "    </tr>\n",
              "    <tr>\n",
              "      <th>1</th>\n",
              "      <td>17.533096</td>\n",
              "      <td>X2</td>\n",
              "    </tr>\n",
              "    <tr>\n",
              "      <th>3</th>\n",
              "      <td>14.757299</td>\n",
              "      <td>X4</td>\n",
              "    </tr>\n",
              "    <tr>\n",
              "      <th>4</th>\n",
              "      <td>14.481941</td>\n",
              "      <td>X5</td>\n",
              "    </tr>\n",
              "    <tr>\n",
              "      <th>5</th>\n",
              "      <td>11.638327</td>\n",
              "      <td>X6</td>\n",
              "    </tr>\n",
              "  </tbody>\n",
              "</table>\n",
              "</div>\n",
              "      <button class=\"colab-df-convert\" onclick=\"convertToInteractive('df-d1de9e97-be52-4229-ba55-09a9f3c56702')\"\n",
              "              title=\"Convert this dataframe to an interactive table.\"\n",
              "              style=\"display:none;\">\n",
              "        \n",
              "  <svg xmlns=\"http://www.w3.org/2000/svg\" height=\"24px\"viewBox=\"0 0 24 24\"\n",
              "       width=\"24px\">\n",
              "    <path d=\"M0 0h24v24H0V0z\" fill=\"none\"/>\n",
              "    <path d=\"M18.56 5.44l.94 2.06.94-2.06 2.06-.94-2.06-.94-.94-2.06-.94 2.06-2.06.94zm-11 1L8.5 8.5l.94-2.06 2.06-.94-2.06-.94L8.5 2.5l-.94 2.06-2.06.94zm10 10l.94 2.06.94-2.06 2.06-.94-2.06-.94-.94-2.06-.94 2.06-2.06.94z\"/><path d=\"M17.41 7.96l-1.37-1.37c-.4-.4-.92-.59-1.43-.59-.52 0-1.04.2-1.43.59L10.3 9.45l-7.72 7.72c-.78.78-.78 2.05 0 2.83L4 21.41c.39.39.9.59 1.41.59.51 0 1.02-.2 1.41-.59l7.78-7.78 2.81-2.81c.8-.78.8-2.07 0-2.86zM5.41 20L4 18.59l7.72-7.72 1.47 1.35L5.41 20z\"/>\n",
              "  </svg>\n",
              "      </button>\n",
              "      \n",
              "  <style>\n",
              "    .colab-df-container {\n",
              "      display:flex;\n",
              "      flex-wrap:wrap;\n",
              "      gap: 12px;\n",
              "    }\n",
              "\n",
              "    .colab-df-convert {\n",
              "      background-color: #E8F0FE;\n",
              "      border: none;\n",
              "      border-radius: 50%;\n",
              "      cursor: pointer;\n",
              "      display: none;\n",
              "      fill: #1967D2;\n",
              "      height: 32px;\n",
              "      padding: 0 0 0 0;\n",
              "      width: 32px;\n",
              "    }\n",
              "\n",
              "    .colab-df-convert:hover {\n",
              "      background-color: #E2EBFA;\n",
              "      box-shadow: 0px 1px 2px rgba(60, 64, 67, 0.3), 0px 1px 3px 1px rgba(60, 64, 67, 0.15);\n",
              "      fill: #174EA6;\n",
              "    }\n",
              "\n",
              "    [theme=dark] .colab-df-convert {\n",
              "      background-color: #3B4455;\n",
              "      fill: #D2E3FC;\n",
              "    }\n",
              "\n",
              "    [theme=dark] .colab-df-convert:hover {\n",
              "      background-color: #434B5C;\n",
              "      box-shadow: 0px 1px 3px 1px rgba(0, 0, 0, 0.15);\n",
              "      filter: drop-shadow(0px 1px 2px rgba(0, 0, 0, 0.3));\n",
              "      fill: #FFFFFF;\n",
              "    }\n",
              "  </style>\n",
              "\n",
              "      <script>\n",
              "        const buttonEl =\n",
              "          document.querySelector('#df-d1de9e97-be52-4229-ba55-09a9f3c56702 button.colab-df-convert');\n",
              "        buttonEl.style.display =\n",
              "          google.colab.kernel.accessAllowed ? 'block' : 'none';\n",
              "\n",
              "        async function convertToInteractive(key) {\n",
              "          const element = document.querySelector('#df-d1de9e97-be52-4229-ba55-09a9f3c56702');\n",
              "          const dataTable =\n",
              "            await google.colab.kernel.invokeFunction('convertToInteractive',\n",
              "                                                     [key], {});\n",
              "          if (!dataTable) return;\n",
              "\n",
              "          const docLinkHtml = 'Like what you see? Visit the ' +\n",
              "            '<a target=\"_blank\" href=https://colab.research.google.com/notebooks/data_table.ipynb>data table notebook</a>'\n",
              "            + ' to learn more about interactive tables.';\n",
              "          element.innerHTML = '';\n",
              "          dataTable['output_type'] = 'display_data';\n",
              "          await google.colab.output.renderOutput(dataTable, element);\n",
              "          const docLink = document.createElement('div');\n",
              "          docLink.innerHTML = docLinkHtml;\n",
              "          element.appendChild(docLink);\n",
              "        }\n",
              "      </script>\n",
              "    </div>\n",
              "  </div>\n",
              "  "
            ]
          },
          "metadata": {},
          "execution_count": 20
        }
      ]
    },
    {
      "cell_type": "code",
      "source": [
        "f1_score(y_test,cb_pred)"
      ],
      "metadata": {
        "colab": {
          "base_uri": "https://localhost:8080/"
        },
        "id": "m0pcYXkfzJNa",
        "outputId": "ea26cddd-77c8-482f-d766-7dce9b4ec724"
      },
      "execution_count": null,
      "outputs": [
        {
          "output_type": "execute_result",
          "data": {
            "text/plain": [
              "0.6341463414634146"
            ]
          },
          "metadata": {},
          "execution_count": 21
        }
      ]
    },
    {
      "cell_type": "code",
      "source": [
        "from sklearn import ensemble\n",
        "gbt = ensemble.GradientBoostingClassifier(n_estimators = 150,  max_depth=5,  random_state=21)\n",
        "gbt.fit(x_train, y_train)\n",
        "gbt.score(x_test, y_test)"
      ],
      "metadata": {
        "colab": {
          "base_uri": "https://localhost:8080/"
        },
        "id": "9R0rrhy6fT1b",
        "outputId": "7d25c087-4cf3-4fee-c8d1-0e8962cb79c1"
      },
      "execution_count": null,
      "outputs": [
        {
          "output_type": "execute_result",
          "data": {
            "text/plain": [
              "0.5833333333333334"
            ]
          },
          "metadata": {},
          "execution_count": 22
        }
      ]
    },
    {
      "cell_type": "code",
      "source": [
        "y_pred = gbt.predict_proba(x_test)[:, 1]\n",
        "from sklearn.metrics import roc_auc_score\n",
        "roc_auc_score(y_test, y_pred)"
      ],
      "metadata": {
        "colab": {
          "base_uri": "https://localhost:8080/"
        },
        "id": "y-7iHhWvi6HB",
        "outputId": "274ff12f-e370-48bd-fb83-ceb404dc6feb"
      },
      "execution_count": null,
      "outputs": [
        {
          "output_type": "execute_result",
          "data": {
            "text/plain": [
              "0.6358024691358024"
            ]
          },
          "metadata": {},
          "execution_count": 23
        }
      ]
    },
    {
      "cell_type": "code",
      "source": [
        "import seaborn as sns\n",
        "sns.barplot(x = gbt.feature_importances_, y = x_test.columns)\n",
        "plt.xlabel('Важность признаков')\n",
        "plt.ylabel('Признаки')\n",
        "plt.show()"
      ],
      "metadata": {
        "colab": {
          "base_uri": "https://localhost:8080/",
          "height": 279
        },
        "id": "ceqFCd7QspFk",
        "outputId": "872543a7-e521-41bb-9785-eea5c79e2c4f"
      },
      "execution_count": null,
      "outputs": [
        {
          "output_type": "display_data",
          "data": {
            "text/plain": [
              "<Figure size 432x288 with 1 Axes>"
            ],
            "image/png": "[encoded data removed]"
          },
          "metadata": {
            "needs_background": "light"
          }
        }
      ]
    }
  ]
}